{
 "cells": [
  {
   "cell_type": "markdown",
   "metadata": {},
   "source": [
    "# Perform Enrichment\n",
    "\n",
    "Author: Ashley Schwartz\n",
    "\n",
    "Date: July 17, 2023\n",
    "\n",
    "## Purpose and Background\n",
    "\n",
    "This tutorial explains the process of conducting gene set enrichment testing, a method employed to assess predefined biologically relevant gene sets such as pathways or biological processes. The goal is to determine if these sets contain a higher number of significant genes from an experimental dataset compared to what would be expected by random chance.\n",
    "\n",
    "Given a dataset with differential gene expression for genes with associated p-values, we can determine the gene sets (concepts) that have significantly higher significance values than expected at random. This can be done by testing against all concept ids within a concept, or a few you might be interested in. \n",
    "\n",
    "A large limitation to a variety of designed enrichment methodologies is the minimal information for zebrafish. To overcome this, we have developed a new organism type, 'dreM' that is a mirror of the human 'hsa' organism with zebrafish genes. For example, the KEGG database has 355 annotated pathways for humans (hsa) at the time of writing this tutorial. Zebrafish (dre) have only 177. We have mapped all genes in the 355 hsa pathways to create 355 dreM pathways.\n",
    "\n",
    "If you would like to reference true zebrafish pathways, choose `org = 'dre'`\n",
    "\n",
    "If you would like to reference mapped zebrafish pathways, choose `org = 'dreM'`\n",
    "\n",
    "Some key definitions:\n",
    "\n",
    "| Term | Definition/Description |\n",
    "| - | - |\n",
    "| concept | a database resource such as KEGG or GO |\n",
    "| KEGG | defined as a concept https://www.kegg.jp/kegg/pathway.html | \n",
    "| KEGG pathway | pathway is a database for the KEGG concept |\n",
    "| KEGG disease | disease is a database for the KEGG concept | \n",
    "\n",
    "In this tutorial we will be using the following key elements:\n",
    "\n",
    "| Item | Desctiption  |\n",
    "|-|-|\n",
    "`data/test_data/TPP.txt` | A differential expression dataset containing Gene IDs, Log2FC values, and associated p-values |\n",
    "\n",
    "In general, while you do not need a large foundation in Python to execute the code listed in this tutorial, a general understanding of absolute and relative paths is useful.\n"
   ]
  },
  {
   "cell_type": "markdown",
   "metadata": {},
   "source": [
    "## Set up Python environment"
   ]
  },
  {
   "cell_type": "code",
   "execution_count": 1,
   "metadata": {},
   "outputs": [],
   "source": [
    "# IMPORT PYTHON PACKAGES\n",
    "# ----------------------\n",
    "\n",
    "# makes the notebook cell print all outputs\n",
    "from IPython.core.interactiveshell import InteractiveShell\n",
    "InteractiveShell.ast_node_interactivity = 'all'\n",
    "# path packages\n",
    "import sys\n",
    "from pathlib import Path\n",
    "# data processing packages\n",
    "import pandas as pd"
   ]
  },
  {
   "cell_type": "code",
   "execution_count": 2,
   "metadata": {},
   "outputs": [],
   "source": [
    "# SET UP MY LOCAL PACKAGE\n",
    "# -----------------------\n",
    "# this step is only needed because the local package has not been released through pip\n",
    "\n",
    "cwd = Path().absolute()\n",
    "\n",
    "package_folder = cwd / Path('../src/danRerLib')\n",
    "sys.path.append(str(package_folder))\n",
    "import mapping, KEGG, enrichment, utils\n",
    "\n",
    "# SET UP DATA DIRECTORY\n",
    "# ---------------------\n",
    "test_data_dir = cwd / Path('data/test_data/')\n",
    "out_data_dir = cwd / Path('data/out_data/')\n",
    "\n",
    "# note: I am using the Path package to take care of any operating\n",
    "#       system differences for users of this tutorial"
   ]
  },
  {
   "cell_type": "markdown",
   "metadata": {},
   "source": [
    "## KEGG Enrichment \n",
    "\n",
    "### KEGG Pathway Enrichment\n",
    "\n",
    "_Purpose: Given a dataset with genes and associated p-values for significant differential expression, determine the enriched KEGG pathways._\n",
    "\n",
    "__Step 1:__ Read your data into the workspace. The supported format is a dataset with columns 'NCBI Gene ID' and 'Pvalue'. We will be using the test dataset with relative path `data/test_data/TPP.txt` which is an example differential expression dataset."
   ]
  },
  {
   "cell_type": "code",
   "execution_count": 3,
   "metadata": {},
   "outputs": [],
   "source": [
    "file_path = test_data_dir / Path('TPP.txt')\n",
    "tpp_df = pd.read_csv(file_path, sep='\\t')"
   ]
  },
  {
   "cell_type": "markdown",
   "metadata": {},
   "source": [
    "We can also quickly print some stats to see what we are working with."
   ]
  },
  {
   "cell_type": "code",
   "execution_count": 4,
   "metadata": {},
   "outputs": [
    {
     "name": "stdout",
     "output_type": "stream",
     "text": [
      "- The column names for this dataset are: ['NCBI Gene ID' 'PValue' 'logFC']\n",
      "- The data has 21854 entries (genes).\n"
     ]
    }
   ],
   "source": [
    "rows, cols = tpp_df.shape\n",
    "print(f\"- The column names for this dataset are: {tpp_df.columns.values}\")\n",
    "print(f'- The data has {rows} entries (genes).')"
   ]
  },
  {
   "cell_type": "markdown",
   "metadata": {},
   "source": [
    "__Step 2:__ Specify the Gene ID type currently used in your dataset. "
   ]
  },
  {
   "cell_type": "code",
   "execution_count": 5,
   "metadata": {},
   "outputs": [],
   "source": [
    "id_type = 'NCBI Gene ID'"
   ]
  },
  {
   "cell_type": "markdown",
   "metadata": {},
   "source": [
    "As you'l notice, this matches my first column name in my dataset. A quick reminder that the Gene ID type must be one of the supported types and is case/spelling sensitive. Options are: NCBI Gene ID, ZFIN ID, Symbol, Ensembl ID. Many of the databases use the NCBI Gene ID so that is usually a preferred format, but any ID type will work here."
   ]
  },
  {
   "cell_type": "markdown",
   "metadata": {},
   "source": [
    "__Step 3:__ Launch the `enrich_KEGG` function. This function performs enrichment for the KEGG database. I chose the 'dreM' organism so the function will perform enrichment for all mapped zebrafish pathways using the logistic method. \n",
    "\n",
    "_note: this can take a while since we are testing all 355 pathways_"
   ]
  },
  {
   "cell_type": "code",
   "execution_count": 6,
   "metadata": {},
   "outputs": [],
   "source": [
    "out = enrichment.enrich_KEGG(tpp_df, gene_id_type = id_type, org = 'dreM')"
   ]
  },
  {
   "cell_type": "markdown",
   "metadata": {},
   "source": [
    "__Step 5:__ Visualize results and print some stats. We can take a peak at the first three lines of the dataframe output and see what is returned:"
   ]
  },
  {
   "cell_type": "code",
   "execution_count": 7,
   "metadata": {},
   "outputs": [
    {
     "data": {
      "text/html": [
       "<div>\n",
       "<style scoped>\n",
       "    .dataframe tbody tr th:only-of-type {\n",
       "        vertical-align: middle;\n",
       "    }\n",
       "\n",
       "    .dataframe tbody tr th {\n",
       "        vertical-align: top;\n",
       "    }\n",
       "\n",
       "    .dataframe thead th {\n",
       "        text-align: right;\n",
       "    }\n",
       "</style>\n",
       "<table border=\"1\" class=\"dataframe\">\n",
       "  <thead>\n",
       "    <tr style=\"text-align: right;\">\n",
       "      <th></th>\n",
       "      <th>Concept Type</th>\n",
       "      <th>Concept ID</th>\n",
       "      <th>Concept Name</th>\n",
       "      <th># Genes in Concept in Universe</th>\n",
       "      <th># Sig Genes Belong to Concept</th>\n",
       "      <th>Proportion of Genes</th>\n",
       "      <th>Coeff</th>\n",
       "      <th>P-value</th>\n",
       "      <th>FDR</th>\n",
       "      <th>Odds Ratio</th>\n",
       "      <th>Enriched</th>\n",
       "    </tr>\n",
       "  </thead>\n",
       "  <tbody>\n",
       "    <tr>\n",
       "      <th>0</th>\n",
       "      <td>KEGG pathway</td>\n",
       "      <td>dreM04550</td>\n",
       "      <td>Signaling pathways regulating pluripotency of ...</td>\n",
       "      <td>155</td>\n",
       "      <td>47</td>\n",
       "      <td>0.303226</td>\n",
       "      <td>0.255060</td>\n",
       "      <td>4.961454e-07</td>\n",
       "      <td>4.961454e-07</td>\n",
       "      <td>1.290539</td>\n",
       "      <td>enriched</td>\n",
       "    </tr>\n",
       "    <tr>\n",
       "      <th>1</th>\n",
       "      <td>KEGG pathway</td>\n",
       "      <td>dreM05225</td>\n",
       "      <td>Hepatocellular carcinoma</td>\n",
       "      <td>173</td>\n",
       "      <td>56</td>\n",
       "      <td>0.323699</td>\n",
       "      <td>0.236088</td>\n",
       "      <td>2.403849e-06</td>\n",
       "      <td>2.403849e-06</td>\n",
       "      <td>1.266286</td>\n",
       "      <td>enriched</td>\n",
       "    </tr>\n",
       "    <tr>\n",
       "      <th>2</th>\n",
       "      <td>KEGG pathway</td>\n",
       "      <td>dreM04961</td>\n",
       "      <td>Endocrine and other factor-regulated calcium r...</td>\n",
       "      <td>64</td>\n",
       "      <td>18</td>\n",
       "      <td>0.281250</td>\n",
       "      <td>0.314233</td>\n",
       "      <td>2.836166e-06</td>\n",
       "      <td>2.836166e-06</td>\n",
       "      <td>1.369209</td>\n",
       "      <td>enriched</td>\n",
       "    </tr>\n",
       "  </tbody>\n",
       "</table>\n",
       "</div>"
      ],
      "text/plain": [
       "   Concept Type Concept ID                                       Concept Name  \\\n",
       "0  KEGG pathway  dreM04550  Signaling pathways regulating pluripotency of ...   \n",
       "1  KEGG pathway  dreM05225                           Hepatocellular carcinoma   \n",
       "2  KEGG pathway  dreM04961  Endocrine and other factor-regulated calcium r...   \n",
       "\n",
       "   # Genes in Concept in Universe  # Sig Genes Belong to Concept  \\\n",
       "0                             155                             47   \n",
       "1                             173                             56   \n",
       "2                              64                             18   \n",
       "\n",
       "   Proportion of Genes     Coeff       P-value           FDR  Odds Ratio  \\\n",
       "0             0.303226  0.255060  4.961454e-07  4.961454e-07    1.290539   \n",
       "1             0.323699  0.236088  2.403849e-06  2.403849e-06    1.266286   \n",
       "2             0.281250  0.314233  2.836166e-06  2.836166e-06    1.369209   \n",
       "\n",
       "   Enriched  \n",
       "0  enriched  \n",
       "1  enriched  \n",
       "2  enriched  "
      ]
     },
     "execution_count": 7,
     "metadata": {},
     "output_type": "execute_result"
    }
   ],
   "source": [
    "out.head(3)"
   ]
  },
  {
   "cell_type": "markdown",
   "metadata": {},
   "source": [
    "| Column Name | Description | Notes | \n",
    "| - | -|-|\n",
    "| Concept Type | the database used | KEGG pathway is the default database and the database used here |\n",
    "| Concept ID | the unique ID for the concept | KEGG pathway ids are of the form [org][5 didgit ID]. We chose the mapped zebrafish organism 'dreM' | \n",
    "| # Genes in Concept in Universe | The number of genes that are in the Concept ID that have been found in the given dataset | the number of genes in the pathway that were found in the `TPP.txt` dataset we began with |\n",
    "| # Sig Genes Belong to Concept | the number of significant genes that belong to the Concept ID that are in the given dataset | the number of significant genes from our dataset that are in the KEGG pathway |\n",
    "| Proportion of Genes | the proportion of significant genes in the concept ID | ... | \n",
    "| Coeff\t| the $\\beta$ coefficient from the logistic regression fit | ... |\n",
    "| P-value | significance of enrichment | ... |\n",
    "| FDR | adjusted p-value for significant of enrichment | ... |\n",
    "| Odds Ratio | ... | ...| \n",
    "| Enriched | either enriched or depleted | ... |\n"
   ]
  },
  {
   "cell_type": "markdown",
   "metadata": {},
   "source": [
    "To check how many pathways we have significantly enriched, we would check the shape of the dataframe:"
   ]
  },
  {
   "cell_type": "code",
   "execution_count": 8,
   "metadata": {},
   "outputs": [
    {
     "name": "stdout",
     "output_type": "stream",
     "text": [
      "There are 355 pathways that meet the significance criteria.\n"
     ]
    }
   ],
   "source": [
    "rows, cols = out.shape\n",
    "print(f'There are {rows} pathways that meet the significance criteria.')"
   ]
  },
  {
   "cell_type": "markdown",
   "metadata": {},
   "source": [
    "__Step 6:__ Save the results to a file. "
   ]
  },
  {
   "cell_type": "code",
   "execution_count": 9,
   "metadata": {},
   "outputs": [],
   "source": [
    "out_file_name = Path('entrich_out.txt')\n",
    "out.to_csv(out_data_dir / out_file_name, sep='\\t', index = False)"
   ]
  },
  {
   "cell_type": "markdown",
   "metadata": {},
   "source": [
    "Other running options include:\n",
    "\n",
    "    - method: 'logistic' (default) or 'fishers'\n",
    "    - org: 'dreM' (default) or 'dre', 'hsa'\n",
    "    - database: 'pathway' (default) or 'disease'\n",
    "    - concept_ids: give a list of ids\n",
    "    - sig_gene_cutoff_pvalue: p-value cutoff for significant genes in set\n",
    "    - sig_conceptID_cutoff_pvalue: return concept ids only less than specified value for the p-value\n",
    "    - sig_conceptID_cutoff_FDR: return concept ids only less than specified value for the FDR\n",
    "\n",
    "note: if you would like to perform enrichment on KEGG disease, a list of IDs is currently required. There are many KEGG disease options at this time and have not yet been included in the database. \n",
    "\n",
    "For example, if you would like a stricter gene significance cutoff, you could run the function as follows:\n",
    "\n",
    "`enrichment.enrich_KEGG(tpp_df, sig_gene_cutoff_pvalue = 0.05)`"
   ]
  },
  {
   "cell_type": "markdown",
   "metadata": {},
   "source": [
    "### KEGG Pathway Enrichment Specified Pathway Set\n",
    "\n",
    "_Purpose: Given a list of pathways, determine if the pathways are enriched in the given dataset._"
   ]
  },
  {
   "cell_type": "markdown",
   "metadata": {},
   "source": [
    "__Step 1:__ Read in your data."
   ]
  },
  {
   "cell_type": "code",
   "execution_count": 10,
   "metadata": {},
   "outputs": [],
   "source": [
    "file_path = test_data_dir / Path('TPP.txt')\n",
    "tpp_df = pd.read_csv(file_path, sep='\\t')"
   ]
  },
  {
   "cell_type": "markdown",
   "metadata": {},
   "source": [
    "__Step 2:__ Read in the Pathway IDs you are interested in, or copy/paste them directly to the shell."
   ]
  },
  {
   "cell_type": "code",
   "execution_count": 11,
   "metadata": {},
   "outputs": [
    {
     "data": {
      "text/html": [
       "<div>\n",
       "<style scoped>\n",
       "    .dataframe tbody tr th:only-of-type {\n",
       "        vertical-align: middle;\n",
       "    }\n",
       "\n",
       "    .dataframe tbody tr th {\n",
       "        vertical-align: top;\n",
       "    }\n",
       "\n",
       "    .dataframe thead th {\n",
       "        text-align: right;\n",
       "    }\n",
       "</style>\n",
       "<table border=\"1\" class=\"dataframe\">\n",
       "  <thead>\n",
       "    <tr style=\"text-align: right;\">\n",
       "      <th></th>\n",
       "      <th>KEGG Pathway ID</th>\n",
       "    </tr>\n",
       "  </thead>\n",
       "  <tbody>\n",
       "    <tr>\n",
       "      <th>0</th>\n",
       "      <td>4911</td>\n",
       "    </tr>\n",
       "    <tr>\n",
       "      <th>1</th>\n",
       "      <td>4910</td>\n",
       "    </tr>\n",
       "    <tr>\n",
       "      <th>2</th>\n",
       "      <td>4922</td>\n",
       "    </tr>\n",
       "    <tr>\n",
       "      <th>3</th>\n",
       "      <td>4972</td>\n",
       "    </tr>\n",
       "    <tr>\n",
       "      <th>4</th>\n",
       "      <td>4930</td>\n",
       "    </tr>\n",
       "    <tr>\n",
       "      <th>5</th>\n",
       "      <td>4940</td>\n",
       "    </tr>\n",
       "    <tr>\n",
       "      <th>6</th>\n",
       "      <td>4950</td>\n",
       "    </tr>\n",
       "    <tr>\n",
       "      <th>7</th>\n",
       "      <td>4931</td>\n",
       "    </tr>\n",
       "  </tbody>\n",
       "</table>\n",
       "</div>"
      ],
      "text/plain": [
       "   KEGG Pathway ID\n",
       "0             4911\n",
       "1             4910\n",
       "2             4922\n",
       "3             4972\n",
       "4             4930\n",
       "5             4940\n",
       "6             4950\n",
       "7             4931"
      ]
     },
     "execution_count": 11,
     "metadata": {},
     "output_type": "execute_result"
    }
   ],
   "source": [
    "file_path = test_data_dir / Path('kegg_pathways.txt')\n",
    "pathway_ids = pd.read_csv(file_path, sep='\\t')\n",
    "pathway_ids"
   ]
  },
  {
   "cell_type": "markdown",
   "metadata": {},
   "source": [
    "_Note:_ There are a variety of ways you can have you pathway IDs listed. If you go on the [KEGG pathway website](https://www.genome.jp/kegg/pathway.html), you'll notice that the pathways that are listed often times begin with a '0'. For example, the first pathway 'Metabolic Pathways' has ID 01100. If you were to reference this pathway for humans, it would be 'hsa01100' and 'dre01100' for zebrafish. If you would like to reference the mapped pathway as included in this library, it would be 'dreM01100'. The pathways in the file I read in just have the pathway ID. If you read this into python using pandas, python drops leading zeros unless you specify to read in the data as a string:\n",
    "\n",
    "`pathway_ids = pd.read_csv(file_path, sep='\\t', astype(str))`\n",
    "\n",
    "If you do not take this extra step, that is okay, the program will automatically add any necessary leading zeros and add on the specified organism. \n",
    "\n",
    "For example, if you give an id '01100' and 'org = 'dreM', the program will reference the pathway id as 'dreM01100'."
   ]
  },
  {
   "cell_type": "markdown",
   "metadata": {},
   "source": [
    "__Step 3:__ Initialize important parameters."
   ]
  },
  {
   "cell_type": "code",
   "execution_count": 12,
   "metadata": {},
   "outputs": [],
   "source": [
    "zfish_gene_type = 'NCBI Gene ID' # the gene type in the tpp_df"
   ]
  },
  {
   "cell_type": "markdown",
   "metadata": {},
   "source": [
    "__Step 4:__ Launch enrichment function."
   ]
  },
  {
   "cell_type": "code",
   "execution_count": 13,
   "metadata": {},
   "outputs": [],
   "source": [
    "out = enrichment.enrich_KEGG(tpp_df, \n",
    "                             gene_id_type = zfish_gene_type,\n",
    "                             org = 'dreM',\n",
    "                             database = 'pathway',\n",
    "                             concept_ids = pathway_ids)"
   ]
  },
  {
   "cell_type": "code",
   "execution_count": 14,
   "metadata": {},
   "outputs": [
    {
     "data": {
      "text/html": [
       "<div>\n",
       "<style scoped>\n",
       "    .dataframe tbody tr th:only-of-type {\n",
       "        vertical-align: middle;\n",
       "    }\n",
       "\n",
       "    .dataframe tbody tr th {\n",
       "        vertical-align: top;\n",
       "    }\n",
       "\n",
       "    .dataframe thead th {\n",
       "        text-align: right;\n",
       "    }\n",
       "</style>\n",
       "<table border=\"1\" class=\"dataframe\">\n",
       "  <thead>\n",
       "    <tr style=\"text-align: right;\">\n",
       "      <th></th>\n",
       "      <th>Concept Type</th>\n",
       "      <th>Concept ID</th>\n",
       "      <th>Concept Name</th>\n",
       "      <th># Genes in Concept in Universe</th>\n",
       "      <th># Sig Genes Belong to Concept</th>\n",
       "      <th>Proportion of Genes</th>\n",
       "      <th>Coeff</th>\n",
       "      <th>P-value</th>\n",
       "      <th>FDR</th>\n",
       "      <th>Odds Ratio</th>\n",
       "      <th>Enriched</th>\n",
       "    </tr>\n",
       "  </thead>\n",
       "  <tbody>\n",
       "    <tr>\n",
       "      <th>0</th>\n",
       "      <td>KEGG pathway</td>\n",
       "      <td>dreM04930</td>\n",
       "      <td>Type II diabetes mellitus</td>\n",
       "      <td>52</td>\n",
       "      <td>18</td>\n",
       "      <td>0.346154</td>\n",
       "      <td>0.281483</td>\n",
       "      <td>0.000423</td>\n",
       "      <td>0.000423</td>\n",
       "      <td>1.325094</td>\n",
       "      <td>enriched</td>\n",
       "    </tr>\n",
       "    <tr>\n",
       "      <th>1</th>\n",
       "      <td>KEGG pathway</td>\n",
       "      <td>dreM04911</td>\n",
       "      <td>Insulin secretion</td>\n",
       "      <td>105</td>\n",
       "      <td>27</td>\n",
       "      <td>0.257143</td>\n",
       "      <td>0.212893</td>\n",
       "      <td>0.001377</td>\n",
       "      <td>0.001377</td>\n",
       "      <td>1.237253</td>\n",
       "      <td>enriched</td>\n",
       "    </tr>\n",
       "    <tr>\n",
       "      <th>2</th>\n",
       "      <td>KEGG pathway</td>\n",
       "      <td>dreM04931</td>\n",
       "      <td>Insulin resistance</td>\n",
       "      <td>125</td>\n",
       "      <td>31</td>\n",
       "      <td>0.248000</td>\n",
       "      <td>0.160865</td>\n",
       "      <td>0.017926</td>\n",
       "      <td>0.017926</td>\n",
       "      <td>1.174526</td>\n",
       "      <td>enriched</td>\n",
       "    </tr>\n",
       "    <tr>\n",
       "      <th>3</th>\n",
       "      <td>KEGG pathway</td>\n",
       "      <td>dreM04910</td>\n",
       "      <td>Insulin signaling pathway</td>\n",
       "      <td>149</td>\n",
       "      <td>32</td>\n",
       "      <td>0.214765</td>\n",
       "      <td>0.143629</td>\n",
       "      <td>0.025852</td>\n",
       "      <td>0.025852</td>\n",
       "      <td>1.154456</td>\n",
       "      <td>enriched</td>\n",
       "    </tr>\n",
       "    <tr>\n",
       "      <th>4</th>\n",
       "      <td>KEGG pathway</td>\n",
       "      <td>dreM04922</td>\n",
       "      <td>Glucagon signaling pathway</td>\n",
       "      <td>124</td>\n",
       "      <td>29</td>\n",
       "      <td>0.233871</td>\n",
       "      <td>0.124582</td>\n",
       "      <td>0.088239</td>\n",
       "      <td>0.088239</td>\n",
       "      <td>1.132675</td>\n",
       "      <td>enriched</td>\n",
       "    </tr>\n",
       "    <tr>\n",
       "      <th>5</th>\n",
       "      <td>KEGG pathway</td>\n",
       "      <td>dreM04940</td>\n",
       "      <td>Type I diabetes mellitus</td>\n",
       "      <td>13</td>\n",
       "      <td>2</td>\n",
       "      <td>0.153846</td>\n",
       "      <td>-0.448269</td>\n",
       "      <td>0.323700</td>\n",
       "      <td>0.323700</td>\n",
       "      <td>0.638733</td>\n",
       "      <td>depleted</td>\n",
       "    </tr>\n",
       "    <tr>\n",
       "      <th>6</th>\n",
       "      <td>KEGG pathway</td>\n",
       "      <td>dreM04972</td>\n",
       "      <td>Pancreatic secretion</td>\n",
       "      <td>87</td>\n",
       "      <td>14</td>\n",
       "      <td>0.160920</td>\n",
       "      <td>0.078379</td>\n",
       "      <td>0.406909</td>\n",
       "      <td>0.406909</td>\n",
       "      <td>1.081532</td>\n",
       "      <td>enriched</td>\n",
       "    </tr>\n",
       "    <tr>\n",
       "      <th>7</th>\n",
       "      <td>KEGG pathway</td>\n",
       "      <td>dreM04950</td>\n",
       "      <td>Maturity onset diabetes of the young</td>\n",
       "      <td>23</td>\n",
       "      <td>4</td>\n",
       "      <td>0.173913</td>\n",
       "      <td>-0.140424</td>\n",
       "      <td>0.575148</td>\n",
       "      <td>0.575148</td>\n",
       "      <td>0.868990</td>\n",
       "      <td>depleted</td>\n",
       "    </tr>\n",
       "  </tbody>\n",
       "</table>\n",
       "</div>"
      ],
      "text/plain": [
       "   Concept Type Concept ID                          Concept Name  \\\n",
       "0  KEGG pathway  dreM04930             Type II diabetes mellitus   \n",
       "1  KEGG pathway  dreM04911                     Insulin secretion   \n",
       "2  KEGG pathway  dreM04931                    Insulin resistance   \n",
       "3  KEGG pathway  dreM04910             Insulin signaling pathway   \n",
       "4  KEGG pathway  dreM04922            Glucagon signaling pathway   \n",
       "5  KEGG pathway  dreM04940              Type I diabetes mellitus   \n",
       "6  KEGG pathway  dreM04972                  Pancreatic secretion   \n",
       "7  KEGG pathway  dreM04950  Maturity onset diabetes of the young   \n",
       "\n",
       "   # Genes in Concept in Universe  # Sig Genes Belong to Concept  \\\n",
       "0                              52                             18   \n",
       "1                             105                             27   \n",
       "2                             125                             31   \n",
       "3                             149                             32   \n",
       "4                             124                             29   \n",
       "5                              13                              2   \n",
       "6                              87                             14   \n",
       "7                              23                              4   \n",
       "\n",
       "   Proportion of Genes     Coeff   P-value       FDR  Odds Ratio  Enriched  \n",
       "0             0.346154  0.281483  0.000423  0.000423    1.325094  enriched  \n",
       "1             0.257143  0.212893  0.001377  0.001377    1.237253  enriched  \n",
       "2             0.248000  0.160865  0.017926  0.017926    1.174526  enriched  \n",
       "3             0.214765  0.143629  0.025852  0.025852    1.154456  enriched  \n",
       "4             0.233871  0.124582  0.088239  0.088239    1.132675  enriched  \n",
       "5             0.153846 -0.448269  0.323700  0.323700    0.638733  depleted  \n",
       "6             0.160920  0.078379  0.406909  0.406909    1.081532  enriched  \n",
       "7             0.173913 -0.140424  0.575148  0.575148    0.868990  depleted  "
      ]
     },
     "execution_count": 14,
     "metadata": {},
     "output_type": "execute_result"
    }
   ],
   "source": [
    "out"
   ]
  },
  {
   "cell_type": "markdown",
   "metadata": {},
   "source": [
    "As you can see, the only pathways that were tested were those included in the concept IDs given to the program. "
   ]
  },
  {
   "cell_type": "markdown",
   "metadata": {},
   "source": [
    "## Gene Ontology (GO) Enrichment\n",
    "\n",
    "### GO Concept Enrichment\n",
    "\n",
    "_Purpose: Given a dataset with genes and associated p-values for significant differential expression, determine the enriched GO concept ids._\n",
    "\n",
    "__Step 1:__ Read your data into the workspace. The supported format is a dataset with columns 'NCBI Gene ID' and 'Pvalue'. We will be using the test dataset with relative path `data/test_data/TPP.txt` which is an example differential expression dataset."
   ]
  },
  {
   "cell_type": "markdown",
   "metadata": {},
   "source": []
  }
 ],
 "metadata": {
  "kernelspec": {
   "display_name": "bioinfo",
   "language": "python",
   "name": "python3"
  },
  "language_info": {
   "codemirror_mode": {
    "name": "ipython",
    "version": 3
   },
   "file_extension": ".py",
   "mimetype": "text/x-python",
   "name": "python",
   "nbconvert_exporter": "python",
   "pygments_lexer": "ipython3",
   "version": "3.9.16"
  },
  "orig_nbformat": 4
 },
 "nbformat": 4,
 "nbformat_minor": 2
}
