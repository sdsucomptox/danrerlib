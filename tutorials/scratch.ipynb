{
 "cells": [
  {
   "cell_type": "code",
   "execution_count": 7,
   "metadata": {},
   "outputs": [],
   "source": [
    "# IMPORT PYTHON PACKAGES\n",
    "# ----------------------\n",
    "\n",
    "# makes the notebook cell print all outputs\n",
    "from IPython.core.interactiveshell import InteractiveShell\n",
    "InteractiveShell.ast_node_interactivity = 'all'\n",
    "# path packages\n",
    "import sys\n",
    "from pathlib import Path\n",
    "# data processing packages\n",
    "import pandas as pd\n",
    "# SET UP MY LOCAL PACKAGE\n",
    "# -----------------------\n",
    "# this step is only needed because the local package has not been released through pip\n",
    "\n",
    "cwd = Path().absolute()\n",
    "\n",
    "package_folder = cwd / Path('../src/danRerlib')\n",
    "sys.path.append(str(package_folder))\n",
    "import mapping, utils, KEGG, GO\n",
    "\n",
    "# SET UP DATA DIRECTORY\n",
    "# ---------------------\n",
    "test_data_dir = cwd / Path('data/test/data/')\n",
    "out_data_dir = cwd / Path('data/out_data/')\n",
    "\n",
    "# note: I am using the Path package to take care of any operating\n",
    "#       system differences for users of this tutorial"
   ]
  },
  {
   "cell_type": "code",
   "execution_count": 8,
   "metadata": {},
   "outputs": [],
   "source": [
    "# create a function to determine how many GO concepts there are\n",
    "# It seems that the GO file does not have organism specified\n",
    "\n",
    "# I am curious to know if the ZFIN file has duplicates\n"
   ]
  },
  {
   "cell_type": "code",
   "execution_count": 60,
   "metadata": {},
   "outputs": [
    {
     "data": {
      "text/html": [
       "<div>\n",
       "<style scoped>\n",
       "    .dataframe tbody tr th:only-of-type {\n",
       "        vertical-align: middle;\n",
       "    }\n",
       "\n",
       "    .dataframe tbody tr th {\n",
       "        vertical-align: top;\n",
       "    }\n",
       "\n",
       "    .dataframe thead th {\n",
       "        text-align: right;\n",
       "    }\n",
       "</style>\n",
       "<table border=\"1\" class=\"dataframe\">\n",
       "  <thead>\n",
       "    <tr style=\"text-align: right;\">\n",
       "      <th></th>\n",
       "      <th>Database Designation</th>\n",
       "      <th>Marker ID</th>\n",
       "      <th>Gene Symbol</th>\n",
       "      <th>Qualifiers</th>\n",
       "      <th>GO Term ID</th>\n",
       "      <th>Reference ID</th>\n",
       "      <th>GO Evidence Code</th>\n",
       "      <th>Inferred From</th>\n",
       "      <th>Ontology</th>\n",
       "      <th>Marker Name</th>\n",
       "      <th>Marker Synonyms</th>\n",
       "      <th>Marker Type</th>\n",
       "      <th>Taxon</th>\n",
       "      <th>Modification Date</th>\n",
       "      <th>Assigned By</th>\n",
       "      <th>Annotation Extension</th>\n",
       "      <th>Gene Product Form ID</th>\n",
       "    </tr>\n",
       "  </thead>\n",
       "  <tbody>\n",
       "    <tr>\n",
       "      <th>0</th>\n",
       "      <td>ZFIN</td>\n",
       "      <td>ZDB-GENE-080212-6</td>\n",
       "      <td>zgc:173705</td>\n",
       "      <td>enables</td>\n",
       "      <td>GO:0046872</td>\n",
       "      <td>ZFIN:ZDB-PUB-020723-1</td>\n",
       "      <td>IEA</td>\n",
       "      <td>UniProtKB-KW:KW-0479</td>\n",
       "      <td>F</td>\n",
       "      <td>zgc:173705</td>\n",
       "      <td>NaN</td>\n",
       "      <td>protein_coding_gene</td>\n",
       "      <td>taxon:7955</td>\n",
       "      <td>20220830</td>\n",
       "      <td>ZFIN</td>\n",
       "      <td>NaN</td>\n",
       "      <td>NaN</td>\n",
       "    </tr>\n",
       "    <tr>\n",
       "      <th>1</th>\n",
       "      <td>ZFIN</td>\n",
       "      <td>ZDB-GENE-040801-101</td>\n",
       "      <td>zgc:101048</td>\n",
       "      <td>enables</td>\n",
       "      <td>GO:0046872</td>\n",
       "      <td>ZFIN:ZDB-PUB-020723-1</td>\n",
       "      <td>IEA</td>\n",
       "      <td>UniProtKB-KW:KW-0479</td>\n",
       "      <td>F</td>\n",
       "      <td>zgc:101048</td>\n",
       "      <td>NaN</td>\n",
       "      <td>protein_coding_gene</td>\n",
       "      <td>taxon:7955</td>\n",
       "      <td>20220830</td>\n",
       "      <td>ZFIN</td>\n",
       "      <td>NaN</td>\n",
       "      <td>NaN</td>\n",
       "    </tr>\n",
       "    <tr>\n",
       "      <th>2</th>\n",
       "      <td>ZFIN</td>\n",
       "      <td>ZDB-GENE-081028-59</td>\n",
       "      <td>si:ch211-165e15.1</td>\n",
       "      <td>enables</td>\n",
       "      <td>GO:0003779</td>\n",
       "      <td>ZFIN:ZDB-PUB-020723-1</td>\n",
       "      <td>IEA</td>\n",
       "      <td>UniProtKB-KW:KW-0009</td>\n",
       "      <td>F</td>\n",
       "      <td>si:ch211-165e15.1</td>\n",
       "      <td>NaN</td>\n",
       "      <td>protein_coding_gene</td>\n",
       "      <td>taxon:7955</td>\n",
       "      <td>20220830</td>\n",
       "      <td>ZFIN</td>\n",
       "      <td>NaN</td>\n",
       "      <td>NaN</td>\n",
       "    </tr>\n",
       "  </tbody>\n",
       "</table>\n",
       "</div>"
      ],
      "text/plain": [
       "  Database Designation            Marker ID        Gene Symbol Qualifiers  \\\n",
       "0                 ZFIN    ZDB-GENE-080212-6         zgc:173705    enables   \n",
       "1                 ZFIN  ZDB-GENE-040801-101         zgc:101048    enables   \n",
       "2                 ZFIN   ZDB-GENE-081028-59  si:ch211-165e15.1    enables   \n",
       "\n",
       "   GO Term ID           Reference ID GO Evidence Code         Inferred From  \\\n",
       "0  GO:0046872  ZFIN:ZDB-PUB-020723-1              IEA  UniProtKB-KW:KW-0479   \n",
       "1  GO:0046872  ZFIN:ZDB-PUB-020723-1              IEA  UniProtKB-KW:KW-0479   \n",
       "2  GO:0003779  ZFIN:ZDB-PUB-020723-1              IEA  UniProtKB-KW:KW-0009   \n",
       "\n",
       "  Ontology        Marker Name Marker Synonyms          Marker Type  \\\n",
       "0        F         zgc:173705             NaN  protein_coding_gene   \n",
       "1        F         zgc:101048             NaN  protein_coding_gene   \n",
       "2        F  si:ch211-165e15.1             NaN  protein_coding_gene   \n",
       "\n",
       "        Taxon  Modification Date Assigned By Annotation Extension  \\\n",
       "0  taxon:7955           20220830        ZFIN                  NaN   \n",
       "1  taxon:7955           20220830        ZFIN                  NaN   \n",
       "2  taxon:7955           20220830        ZFIN                  NaN   \n",
       "\n",
       "  Gene Product Form ID  \n",
       "0                  NaN  \n",
       "1                  NaN  \n",
       "2                  NaN  "
      ]
     },
     "execution_count": 60,
     "metadata": {},
     "output_type": "execute_result"
    }
   ],
   "source": [
    "# download file into workspace...\n",
    "# note this is in tsv format already\n",
    "url = 'https://current.geneontology.org/annotations/zfin.gaf.gz'\n",
    "column_names = ['Database Designation',\n",
    "                'Marker ID',\n",
    "                'Gene Symbol',\n",
    "                'Qualifiers',\n",
    "                'GO Term ID',\n",
    "                'Reference ID',\n",
    "                'GO Evidence Code',\n",
    "                'Inferred From',\n",
    "                'Ontology',\n",
    "                'Marker Name',\n",
    "                'Marker Synonyms',\n",
    "                'Marker Type',\n",
    "                'Taxon',\n",
    "                'Modification Date',\n",
    "                'Assigned By',\n",
    "                'Annotation Extension', \n",
    "                'Gene Product Form ID']\n",
    "df = pd.read_csv(url, sep='\\t', comment='!', names=column_names, low_memory=False)\n",
    "desired_columns = ['Marker ID', 'GO Term ID', 'Ontology']\n",
    "df = df.loc[:, desired_columns].drop_duplicates()\n",
    "df.head(3)"
   ]
  },
  {
   "cell_type": "code",
   "execution_count": 56,
   "metadata": {},
   "outputs": [
    {
     "name": "stdout",
     "output_type": "stream",
     "text": [
      "Number of unique GO Term IDs: 10420\n"
     ]
    }
   ],
   "source": [
    "num_unique_terms = df['GO Term ID'].nunique()\n",
    "print(\"Number of unique GO Term IDs:\", num_unique_terms)"
   ]
  },
  {
   "cell_type": "code",
   "execution_count": 72,
   "metadata": {},
   "outputs": [],
   "source": [
    "def _get_ontology(namespace):\n",
    "    if (namespace == 'biological_process'\n",
    "        or namespace == 'Process') :\n",
    "        return 'P'\n",
    "    elif (namespace == 'molecular_function'\n",
    "          or namespace == 'Function'):\n",
    "        return 'F'\n",
    "    elif (namespace == 'cellular_component'\n",
    "          or namespace == 'Component'):\n",
    "        return 'C'\n",
    "    else:\n",
    "        return None"
   ]
  },
  {
   "cell_type": "code",
   "execution_count": 77,
   "metadata": {},
   "outputs": [
    {
     "data": {
      "text/plain": [
       "(294559, 3)"
      ]
     },
     "execution_count": 77,
     "metadata": {},
     "output_type": "execute_result"
    }
   ],
   "source": [
    "# lets try the ncbi set\n",
    "url = 'https://ftp.ncbi.nlm.nih.gov/gene/DATA/gene2go.gz'\n",
    "df = pd.read_csv(url, sep='\\t', compression='gzip')\n",
    "df = df[df['#tax_id']==9606]\n",
    "desired_columns = ['GeneID', 'GO_ID', 'Category']\n",
    "df = df.loc[:, desired_columns].drop_duplicates()\n",
    "new_column_names = {'GeneID': 'Human NCBI Gene ID',\n",
    "                    'GO_ID': 'GO ID',\n",
    "                    'Category' : 'Orthology'}\n",
    "df.rename(columns=new_column_names, inplace=True)\n",
    "df['Orthology'] = df['Orthology'].apply(_get_ontology)\n",
    "df.shape\n"
   ]
  },
  {
   "cell_type": "code",
   "execution_count": 62,
   "metadata": {},
   "outputs": [
    {
     "data": {
      "text/plain": [
       "(526560, 8)"
      ]
     },
     "execution_count": 62,
     "metadata": {},
     "output_type": "execute_result"
    }
   ],
   "source": [
    "df.shape"
   ]
  },
  {
   "cell_type": "code",
   "execution_count": 63,
   "metadata": {},
   "outputs": [
    {
     "data": {
      "text/plain": [
       "(526560, 8)"
      ]
     },
     "execution_count": 63,
     "metadata": {},
     "output_type": "execute_result"
    }
   ],
   "source": [
    "df = df.drop_duplicates()\n",
    "df.shape"
   ]
  },
  {
   "cell_type": "code",
   "execution_count": 64,
   "metadata": {},
   "outputs": [
    {
     "name": "stdout",
     "output_type": "stream",
     "text": [
      "Count of #tax_id = 7955: 182632\n",
      "Count of #tax_id = 9606: 343928\n"
     ]
    }
   ],
   "source": [
    "# Assuming 'df' is your DataFrame\n",
    "counts = df['#tax_id'].value_counts()\n",
    "\n",
    "count_7955 = counts.get(7955, 0)\n",
    "count_9606 = counts.get(9606, 0)\n",
    "\n",
    "print(\"Count of #tax_id = 7955:\", count_7955)\n",
    "print(\"Count of #tax_id = 9606:\", count_9606)"
   ]
  },
  {
   "cell_type": "code",
   "execution_count": 66,
   "metadata": {},
   "outputs": [
    {
     "name": "stdout",
     "output_type": "stream",
     "text": [
      "Number of unique GO_ID terms where #tax_id = 7955: 10334\n"
     ]
    }
   ],
   "source": [
    "\n",
    "# Assuming 'df' is your DataFrame\n",
    "unique_go_terms_7955 = df[df['#tax_id'] == 7955]['GO_ID'].nunique()\n",
    "\n",
    "print(\"Number of unique GO_ID terms where #tax_id = 7955:\", unique_go_terms_7955)"
   ]
  },
  {
   "cell_type": "markdown",
   "metadata": {},
   "source": []
  },
  {
   "cell_type": "markdown",
   "metadata": {},
   "source": [
    "split zebrafish and human taxid"
   ]
  },
  {
   "cell_type": "code",
   "execution_count": null,
   "metadata": {},
   "outputs": [],
   "source": [
    "zfish = "
   ]
  },
  {
   "cell_type": "code",
   "execution_count": null,
   "metadata": {},
   "outputs": [],
   "source": [
    "# make zebrafish GO database:\n",
    "\n",
    "# download file into workspace...\n",
    "# note this is in tsv format already\n",
    "url = 'https://current.geneontology.org/annotations/zfin.gaf.gz'\n",
    "column_names = ['Database Designation',\n",
    "                'Marker ID',\n",
    "                'Gene Symbol',\n",
    "                'Qualifiers',\n",
    "                'GO Term ID',\n",
    "                'Reference ID',\n",
    "                'GO Evidence Code',\n",
    "                'Inferred From',\n",
    "                'Ontology',\n",
    "                'Marker Name',\n",
    "                'Marker Synonyms',\n",
    "                'Marker Type',\n",
    "                'Taxon',\n",
    "                'Modification Date',\n",
    "                'Assigned By',\n",
    "                'Annotation Extension', \n",
    "                'Gene Product Form ID']\n",
    "df = pd.read_csv(url, sep='\\t', comment='!', names=column_names, low_memory=False)\n",
    "desired_columns = ['Marker ID', 'GO Term ID', 'Ontology']\n",
    "df = df.loc[:, desired_columns].drop_duplicates()\n",
    "new_column_names = {'Marker ID': 'ZFIN ID',\n",
    "                    'GO Term ID': 'GO ID'}\n",
    "df.rename(columns=new_column_names, inplace=True)\n"
   ]
  },
  {
   "cell_type": "code",
   "execution_count": 79,
   "metadata": {},
   "outputs": [
    {
     "data": {
      "text/html": [
       "<div>\n",
       "<style scoped>\n",
       "    .dataframe tbody tr th:only-of-type {\n",
       "        vertical-align: middle;\n",
       "    }\n",
       "\n",
       "    .dataframe tbody tr th {\n",
       "        vertical-align: top;\n",
       "    }\n",
       "\n",
       "    .dataframe thead th {\n",
       "        text-align: right;\n",
       "    }\n",
       "</style>\n",
       "<table border=\"1\" class=\"dataframe\">\n",
       "  <thead>\n",
       "    <tr style=\"text-align: right;\">\n",
       "      <th></th>\n",
       "      <th>GO ID</th>\n",
       "      <th>GO Name</th>\n",
       "      <th>Ontology</th>\n",
       "      <th>exists_hsa</th>\n",
       "      <th>exists_dre</th>\n",
       "    </tr>\n",
       "  </thead>\n",
       "  <tbody>\n",
       "    <tr>\n",
       "      <th>0</th>\n",
       "      <td>GO:0000001</td>\n",
       "      <td>mitochondrion inheritance</td>\n",
       "      <td>P</td>\n",
       "      <td>False</td>\n",
       "      <td>False</td>\n",
       "    </tr>\n",
       "    <tr>\n",
       "      <th>1</th>\n",
       "      <td>GO:0000002</td>\n",
       "      <td>mitochondrial genome maintenance</td>\n",
       "      <td>P</td>\n",
       "      <td>True</td>\n",
       "      <td>True</td>\n",
       "    </tr>\n",
       "    <tr>\n",
       "      <th>2</th>\n",
       "      <td>GO:0000003</td>\n",
       "      <td>reproduction</td>\n",
       "      <td>P</td>\n",
       "      <td>True</td>\n",
       "      <td>True</td>\n",
       "    </tr>\n",
       "    <tr>\n",
       "      <th>3</th>\n",
       "      <td>GO:0000005</td>\n",
       "      <td>obsolete ribosomal chaperone activity</td>\n",
       "      <td>F</td>\n",
       "      <td>False</td>\n",
       "      <td>False</td>\n",
       "    </tr>\n",
       "    <tr>\n",
       "      <th>4</th>\n",
       "      <td>GO:0000006</td>\n",
       "      <td>high-affinity zinc transmembrane transporter a...</td>\n",
       "      <td>F</td>\n",
       "      <td>False</td>\n",
       "      <td>False</td>\n",
       "    </tr>\n",
       "    <tr>\n",
       "      <th>...</th>\n",
       "      <td>...</td>\n",
       "      <td>...</td>\n",
       "      <td>...</td>\n",
       "      <td>...</td>\n",
       "      <td>...</td>\n",
       "    </tr>\n",
       "    <tr>\n",
       "      <th>47552</th>\n",
       "      <td>GO:2001312</td>\n",
       "      <td>lysobisphosphatidic acid biosynthetic process</td>\n",
       "      <td>P</td>\n",
       "      <td>False</td>\n",
       "      <td>False</td>\n",
       "    </tr>\n",
       "    <tr>\n",
       "      <th>47553</th>\n",
       "      <td>GO:2001313</td>\n",
       "      <td>UDP-4-deoxy-4-formamido-beta-L-arabinopyranose...</td>\n",
       "      <td>P</td>\n",
       "      <td>False</td>\n",
       "      <td>False</td>\n",
       "    </tr>\n",
       "    <tr>\n",
       "      <th>47554</th>\n",
       "      <td>GO:2001314</td>\n",
       "      <td>UDP-4-deoxy-4-formamido-beta-L-arabinopyranose...</td>\n",
       "      <td>P</td>\n",
       "      <td>False</td>\n",
       "      <td>False</td>\n",
       "    </tr>\n",
       "    <tr>\n",
       "      <th>47555</th>\n",
       "      <td>GO:2001315</td>\n",
       "      <td>UDP-4-deoxy-4-formamido-beta-L-arabinopyranose...</td>\n",
       "      <td>P</td>\n",
       "      <td>False</td>\n",
       "      <td>False</td>\n",
       "    </tr>\n",
       "    <tr>\n",
       "      <th>47556</th>\n",
       "      <td>GO:2001316</td>\n",
       "      <td>kojic acid metabolic process</td>\n",
       "      <td>P</td>\n",
       "      <td>False</td>\n",
       "      <td>False</td>\n",
       "    </tr>\n",
       "  </tbody>\n",
       "</table>\n",
       "<p>47557 rows × 5 columns</p>\n",
       "</div>"
      ],
      "text/plain": [
       "            GO ID                                            GO Name Ontology  \\\n",
       "0      GO:0000001                          mitochondrion inheritance        P   \n",
       "1      GO:0000002                   mitochondrial genome maintenance        P   \n",
       "2      GO:0000003                                       reproduction        P   \n",
       "3      GO:0000005              obsolete ribosomal chaperone activity        F   \n",
       "4      GO:0000006  high-affinity zinc transmembrane transporter a...        F   \n",
       "...           ...                                                ...      ...   \n",
       "47552  GO:2001312      lysobisphosphatidic acid biosynthetic process        P   \n",
       "47553  GO:2001313  UDP-4-deoxy-4-formamido-beta-L-arabinopyranose...        P   \n",
       "47554  GO:2001314  UDP-4-deoxy-4-formamido-beta-L-arabinopyranose...        P   \n",
       "47555  GO:2001315  UDP-4-deoxy-4-formamido-beta-L-arabinopyranose...        P   \n",
       "47556  GO:2001316                       kojic acid metabolic process        P   \n",
       "\n",
       "       exists_hsa  exists_dre  \n",
       "0           False       False  \n",
       "1            True        True  \n",
       "2            True        True  \n",
       "3           False       False  \n",
       "4           False       False  \n",
       "...           ...         ...  \n",
       "47552       False       False  \n",
       "47553       False       False  \n",
       "47554       False       False  \n",
       "47555       False       False  \n",
       "47556       False       False  \n",
       "\n",
       "[47557 rows x 5 columns]"
      ]
     },
     "execution_count": 79,
     "metadata": {},
     "output_type": "execute_result"
    }
   ],
   "source": [
    "# read in necessary files\n",
    "\n",
    "main = '../src/danRerlib/database/GO/GO_ids_V1.txt'\n",
    "zfish = '../src/danRerlib/database/GO/GO_dre_V1.txt'\n",
    "human = '../src/danRerlib/database/GO/GO_hsa_V1.txt'\n",
    "\n",
    "df = pd.read_csv(main, sep='\\t')\n",
    "df_zfish = pd.read_csv(zfish, sep='\\t')\n",
    "df_human = pd.read_csv(human, sep='\\t')\n",
    "\n",
    "df['exists_hsa'] = df['GO ID'].isin(df_human['GO ID'])\n",
    "df['exists_dre'] = df['GO ID'].isin(df_zfish['GO ID'])\n",
    "df\n"
   ]
  },
  {
   "cell_type": "code",
   "execution_count": null,
   "metadata": {},
   "outputs": [],
   "source": []
  }
 ],
 "metadata": {
  "kernelspec": {
   "display_name": "bioinfo",
   "language": "python",
   "name": "python3"
  },
  "language_info": {
   "codemirror_mode": {
    "name": "ipython",
    "version": 3
   },
   "file_extension": ".py",
   "mimetype": "text/x-python",
   "name": "python",
   "nbconvert_exporter": "python",
   "pygments_lexer": "ipython3",
   "version": "3.9.16"
  },
  "orig_nbformat": 4
 },
 "nbformat": 4,
 "nbformat_minor": 2
}
