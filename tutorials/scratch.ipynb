{
 "cells": [
  {
   "cell_type": "code",
   "execution_count": 1,
   "metadata": {},
   "outputs": [],
   "source": [
    "# IMPORT PYTHON PACKAGES\n",
    "# ----------------------\n",
    "\n",
    "# makes the notebook cell print all outputs\n",
    "from IPython.core.interactiveshell import InteractiveShell\n",
    "InteractiveShell.ast_node_interactivity = 'all'\n",
    "# path packages\n",
    "import sys\n",
    "from pathlib import Path\n",
    "# data processing packages\n",
    "import pandas as pd\n",
    "# SET UP MY LOCAL PACKAGE\n",
    "# -----------------------\n",
    "# this step is only needed because the local package has not been released through pip\n",
    "\n",
    "cwd = Path().absolute()\n",
    "\n",
    "package_folder = cwd / Path('../src/danRerlib')\n",
    "sys.path.append(str(package_folder))\n",
    "import mapping, utils\n",
    "\n",
    "# SET UP DATA DIRECTORY\n",
    "# ---------------------\n",
    "test_data_dir = cwd / Path('data/test/data/')\n",
    "out_data_dir = cwd / Path('data/out_data/')\n",
    "\n",
    "# note: I am using the Path package to take care of any operating\n",
    "#       system differences for users of this tutorial"
   ]
  },
  {
   "cell_type": "code",
   "execution_count": 2,
   "metadata": {},
   "outputs": [],
   "source": [
    "database_dir = cwd / Path('../src/danRerlib/database/')\n",
    "human_dir = database_dir / Path('KEGG/hsa/')"
   ]
  },
  {
   "cell_type": "code",
   "execution_count": 3,
   "metadata": {},
   "outputs": [
    {
     "data": {
      "text/html": [
       "<div>\n",
       "<style scoped>\n",
       "    .dataframe tbody tr th:only-of-type {\n",
       "        vertical-align: middle;\n",
       "    }\n",
       "\n",
       "    .dataframe tbody tr th {\n",
       "        vertical-align: top;\n",
       "    }\n",
       "\n",
       "    .dataframe thead th {\n",
       "        text-align: right;\n",
       "    }\n",
       "</style>\n",
       "<table border=\"1\" class=\"dataframe\">\n",
       "  <thead>\n",
       "    <tr style=\"text-align: right;\">\n",
       "      <th></th>\n",
       "      <th>Human NCBI Gene ID</th>\n",
       "    </tr>\n",
       "  </thead>\n",
       "  <tbody>\n",
       "    <tr>\n",
       "      <th>0</th>\n",
       "      <td>10</td>\n",
       "    </tr>\n",
       "    <tr>\n",
       "      <th>1</th>\n",
       "      <td>100</td>\n",
       "    </tr>\n",
       "    <tr>\n",
       "      <th>2</th>\n",
       "      <td>10005</td>\n",
       "    </tr>\n",
       "    <tr>\n",
       "      <th>3</th>\n",
       "      <td>10007</td>\n",
       "    </tr>\n",
       "    <tr>\n",
       "      <th>4</th>\n",
       "      <td>100137049</td>\n",
       "    </tr>\n",
       "    <tr>\n",
       "      <th>...</th>\n",
       "      <td>...</td>\n",
       "    </tr>\n",
       "    <tr>\n",
       "      <th>1537</th>\n",
       "      <td>98</td>\n",
       "    </tr>\n",
       "    <tr>\n",
       "      <th>1538</th>\n",
       "      <td>9869</td>\n",
       "    </tr>\n",
       "    <tr>\n",
       "      <th>1539</th>\n",
       "      <td>9896</td>\n",
       "    </tr>\n",
       "    <tr>\n",
       "      <th>1540</th>\n",
       "      <td>9942</td>\n",
       "    </tr>\n",
       "    <tr>\n",
       "      <th>1541</th>\n",
       "      <td>9945</td>\n",
       "    </tr>\n",
       "  </tbody>\n",
       "</table>\n",
       "<p>1542 rows × 1 columns</p>\n",
       "</div>"
      ],
      "text/plain": [
       "      Human NCBI Gene ID\n",
       "0                     10\n",
       "1                    100\n",
       "2                  10005\n",
       "3                  10007\n",
       "4              100137049\n",
       "...                  ...\n",
       "1537                  98\n",
       "1538                9869\n",
       "1539                9896\n",
       "1540                9942\n",
       "1541                9945\n",
       "\n",
       "[1542 rows x 1 columns]"
      ]
     },
     "execution_count": 3,
     "metadata": {},
     "output_type": "execute_result"
    }
   ],
   "source": [
    "p = human_dir / Path('hsa01100.txt')\n",
    "data = pd.read_csv(p, sep='\\t')\n",
    "data"
   ]
  },
  {
   "cell_type": "code",
   "execution_count": 4,
   "metadata": {},
   "outputs": [],
   "source": [
    "out = mapping.convert_to_zebrafish(data, 'NCBI Gene ID', keep_mapping=True)"
   ]
  },
  {
   "cell_type": "code",
   "execution_count": 5,
   "metadata": {},
   "outputs": [
    {
     "name": "stdout",
     "output_type": "stream",
     "text": [
      "0    ZDB-GENE-030131-2931\n",
      "1      ZDB-GENE-081031-55\n",
      "2      ZDB-GENE-081031-61\n",
      "3       ZDB-GENE-110420-1\n",
      "4       ZDB-GENE-200107-1\n",
      "5       ZDB-GENE-200107-2\n",
      "6      ZDB-GENE-071004-33\n",
      "7      ZDB-GENE-081105-47\n",
      "Name: ZFIN ID, dtype: object\n"
     ]
    }
   ],
   "source": [
    "list = ['10135', '10390']\n",
    "m = mapping.convert_to_zebrafish(list, 'ZFIN ID')\n",
    "print(m)\n",
    "l=mapping.convert_ids(m, 'ZFIN ID', 'NCBI Gene ID')"
   ]
  },
  {
   "cell_type": "code",
   "execution_count": 6,
   "metadata": {},
   "outputs": [
    {
     "data": {
      "text/plain": [
       "['ZDB-GENE-030131-2931',\n",
       " 'ZDB-GENE-081031-55',\n",
       " 'ZDB-GENE-081031-61',\n",
       " 'ZDB-GENE-110420-1',\n",
       " 'ZDB-GENE-200107-1',\n",
       " 'ZDB-GENE-200107-2',\n",
       " 'ZDB-GENE-071004-33',\n",
       " 'ZDB-GENE-081105-47']"
      ]
     },
     "execution_count": 6,
     "metadata": {},
     "output_type": "execute_result"
    }
   ],
   "source": [
    "m.to_list()"
   ]
  },
  {
   "cell_type": "code",
   "execution_count": 7,
   "metadata": {},
   "outputs": [
    {
     "data": {
      "text/plain": [
       "0       324211\n",
       "1       570720\n",
       "2    100149018\n",
       "3    100148280\n",
       "4    100330160\n",
       "5       557816\n",
       "Name: NCBI Gene ID, dtype: object"
      ]
     },
     "execution_count": 7,
     "metadata": {},
     "output_type": "execute_result"
    }
   ],
   "source": [
    "l"
   ]
  },
  {
   "cell_type": "code",
   "execution_count": 8,
   "metadata": {},
   "outputs": [
    {
     "data": {
      "text/plain": [
       "0       324211\n",
       "1       570720\n",
       "2    100149018\n",
       "3    100148280\n",
       "4    100330160\n",
       "5       557816\n",
       "Name: NCBI Gene ID, dtype: object"
      ]
     },
     "execution_count": 8,
     "metadata": {},
     "output_type": "execute_result"
    }
   ],
   "source": [
    "l.dropna()"
   ]
  },
  {
   "cell_type": "code",
   "execution_count": 9,
   "metadata": {},
   "outputs": [
    {
     "data": {
      "text/plain": [
       "0       324211\n",
       "1       570720\n",
       "2    100149018\n",
       "3    100148280\n",
       "4    100330160\n",
       "5       557816\n",
       "Name: NCBI Gene ID, dtype: object"
      ]
     },
     "execution_count": 9,
     "metadata": {},
     "output_type": "execute_result"
    }
   ],
   "source": [
    "import numpy as np\n",
    "s=l\n",
    "s = s.replace('nan', np.nan)\n",
    "s.dropna()"
   ]
  },
  {
   "cell_type": "markdown",
   "metadata": {},
   "source": [
    "out"
   ]
  },
  {
   "cell_type": "code",
   "execution_count": 10,
   "metadata": {},
   "outputs": [],
   "source": [
    "rows_with_nan_entry = out[out['NCBI Gene ID'] == 'nan']\n"
   ]
  },
  {
   "cell_type": "code",
   "execution_count": 11,
   "metadata": {},
   "outputs": [
    {
     "data": {
      "text/html": [
       "<div>\n",
       "<style scoped>\n",
       "    .dataframe tbody tr th:only-of-type {\n",
       "        vertical-align: middle;\n",
       "    }\n",
       "\n",
       "    .dataframe tbody tr th {\n",
       "        vertical-align: top;\n",
       "    }\n",
       "\n",
       "    .dataframe thead th {\n",
       "        text-align: right;\n",
       "    }\n",
       "</style>\n",
       "<table border=\"1\" class=\"dataframe\">\n",
       "  <thead>\n",
       "    <tr style=\"text-align: right;\">\n",
       "      <th></th>\n",
       "      <th>Human NCBI Gene ID</th>\n",
       "      <th>NCBI Gene ID</th>\n",
       "    </tr>\n",
       "  </thead>\n",
       "  <tbody>\n",
       "  </tbody>\n",
       "</table>\n",
       "</div>"
      ],
      "text/plain": [
       "Empty DataFrame\n",
       "Columns: [Human NCBI Gene ID, NCBI Gene ID]\n",
       "Index: []"
      ]
     },
     "execution_count": 11,
     "metadata": {},
     "output_type": "execute_result"
    }
   ],
   "source": [
    "rows_with_nan_entry"
   ]
  },
  {
   "cell_type": "code",
   "execution_count": 12,
   "metadata": {},
   "outputs": [
    {
     "data": {
      "text/html": [
       "<div>\n",
       "<style scoped>\n",
       "    .dataframe tbody tr th:only-of-type {\n",
       "        vertical-align: middle;\n",
       "    }\n",
       "\n",
       "    .dataframe tbody tr th {\n",
       "        vertical-align: top;\n",
       "    }\n",
       "\n",
       "    .dataframe thead th {\n",
       "        text-align: right;\n",
       "    }\n",
       "</style>\n",
       "<table border=\"1\" class=\"dataframe\">\n",
       "  <thead>\n",
       "    <tr style=\"text-align: right;\">\n",
       "      <th></th>\n",
       "      <th>Human NCBI Gene ID</th>\n",
       "      <th>NCBI Gene ID</th>\n",
       "    </tr>\n",
       "  </thead>\n",
       "  <tbody>\n",
       "    <tr>\n",
       "      <th>0</th>\n",
       "      <td>100</td>\n",
       "      <td>436919</td>\n",
       "    </tr>\n",
       "    <tr>\n",
       "      <th>1</th>\n",
       "      <td>10005</td>\n",
       "      <td>450052</td>\n",
       "    </tr>\n",
       "    <tr>\n",
       "      <th>2</th>\n",
       "      <td>10007</td>\n",
       "      <td>550565</td>\n",
       "    </tr>\n",
       "    <tr>\n",
       "      <th>3</th>\n",
       "      <td>10020</td>\n",
       "      <td>393857</td>\n",
       "    </tr>\n",
       "    <tr>\n",
       "      <th>4</th>\n",
       "      <td>10026</td>\n",
       "      <td>415239</td>\n",
       "    </tr>\n",
       "    <tr>\n",
       "      <th>...</th>\n",
       "      <td>...</td>\n",
       "      <td>...</td>\n",
       "    </tr>\n",
       "    <tr>\n",
       "      <th>1483</th>\n",
       "      <td>9869</td>\n",
       "      <td>768131</td>\n",
       "    </tr>\n",
       "    <tr>\n",
       "      <th>1484</th>\n",
       "      <td>9896</td>\n",
       "      <td>100334605</td>\n",
       "    </tr>\n",
       "    <tr>\n",
       "      <th>1485</th>\n",
       "      <td>9896</td>\n",
       "      <td>100329711</td>\n",
       "    </tr>\n",
       "    <tr>\n",
       "      <th>1486</th>\n",
       "      <td>9942</td>\n",
       "      <td>393350</td>\n",
       "    </tr>\n",
       "    <tr>\n",
       "      <th>1487</th>\n",
       "      <td>9945</td>\n",
       "      <td>569945</td>\n",
       "    </tr>\n",
       "  </tbody>\n",
       "</table>\n",
       "<p>1488 rows × 2 columns</p>\n",
       "</div>"
      ],
      "text/plain": [
       "     Human NCBI Gene ID NCBI Gene ID\n",
       "0                   100       436919\n",
       "1                 10005       450052\n",
       "2                 10007       550565\n",
       "3                 10020       393857\n",
       "4                 10026       415239\n",
       "...                 ...          ...\n",
       "1483               9869       768131\n",
       "1484               9896    100334605\n",
       "1485               9896    100329711\n",
       "1486               9942       393350\n",
       "1487               9945       569945\n",
       "\n",
       "[1488 rows x 2 columns]"
      ]
     },
     "execution_count": 12,
     "metadata": {},
     "output_type": "execute_result"
    }
   ],
   "source": [
    "out"
   ]
  },
  {
   "cell_type": "code",
   "execution_count": 13,
   "metadata": {},
   "outputs": [
    {
     "data": {
      "text/plain": [
       "1488"
      ]
     },
     "execution_count": 13,
     "metadata": {},
     "output_type": "execute_result"
    }
   ],
   "source": [
    "indices_with_nan = out[out.isna()].index.tolist()\n",
    "len(indices_with_nan)"
   ]
  },
  {
   "cell_type": "code",
   "execution_count": 14,
   "metadata": {},
   "outputs": [],
   "source": [
    "rows_with_nan = out[out.isna().any(axis=1)]\n"
   ]
  },
  {
   "cell_type": "code",
   "execution_count": 15,
   "metadata": {},
   "outputs": [
    {
     "data": {
      "text/html": [
       "<div>\n",
       "<style scoped>\n",
       "    .dataframe tbody tr th:only-of-type {\n",
       "        vertical-align: middle;\n",
       "    }\n",
       "\n",
       "    .dataframe tbody tr th {\n",
       "        vertical-align: top;\n",
       "    }\n",
       "\n",
       "    .dataframe thead th {\n",
       "        text-align: right;\n",
       "    }\n",
       "</style>\n",
       "<table border=\"1\" class=\"dataframe\">\n",
       "  <thead>\n",
       "    <tr style=\"text-align: right;\">\n",
       "      <th></th>\n",
       "      <th>Human NCBI Gene ID</th>\n",
       "      <th>NCBI Gene ID</th>\n",
       "    </tr>\n",
       "  </thead>\n",
       "  <tbody>\n",
       "  </tbody>\n",
       "</table>\n",
       "</div>"
      ],
      "text/plain": [
       "Empty DataFrame\n",
       "Columns: [Human NCBI Gene ID, NCBI Gene ID]\n",
       "Index: []"
      ]
     },
     "execution_count": 15,
     "metadata": {},
     "output_type": "execute_result"
    }
   ],
   "source": [
    "rows_with_nan"
   ]
  },
  {
   "cell_type": "code",
   "execution_count": 16,
   "metadata": {},
   "outputs": [],
   "source": [
    "def convert_to_str(value):\n",
    "    if value == 'nan':\n",
    "        return np.nan  # Preserve NaN values\n",
    "    else:\n",
    "        return str(value)"
   ]
  },
  {
   "cell_type": "code",
   "execution_count": 17,
   "metadata": {},
   "outputs": [
    {
     "data": {
      "text/html": [
       "<div>\n",
       "<style scoped>\n",
       "    .dataframe tbody tr th:only-of-type {\n",
       "        vertical-align: middle;\n",
       "    }\n",
       "\n",
       "    .dataframe tbody tr th {\n",
       "        vertical-align: top;\n",
       "    }\n",
       "\n",
       "    .dataframe thead th {\n",
       "        text-align: right;\n",
       "    }\n",
       "</style>\n",
       "<table border=\"1\" class=\"dataframe\">\n",
       "  <thead>\n",
       "    <tr style=\"text-align: right;\">\n",
       "      <th></th>\n",
       "      <th>ZFIN ID</th>\n",
       "      <th>Symbol</th>\n",
       "      <th>NCBI Gene ID</th>\n",
       "      <th>Ensembl ID</th>\n",
       "    </tr>\n",
       "  </thead>\n",
       "  <tbody>\n",
       "    <tr>\n",
       "      <th>0</th>\n",
       "      <td>ZDB-BR-071004-117</td>\n",
       "      <td>br.line.zfl2-1</td>\n",
       "      <td>100126124</td>\n",
       "      <td>NaN</td>\n",
       "    </tr>\n",
       "    <tr>\n",
       "      <th>1</th>\n",
       "      <td>ZDB-GENE-000112-47</td>\n",
       "      <td>ppardb</td>\n",
       "      <td>30754</td>\n",
       "      <td>ENSDARG00000009473</td>\n",
       "    </tr>\n",
       "    <tr>\n",
       "      <th>2</th>\n",
       "      <td>ZDB-GENE-000125-12</td>\n",
       "      <td>igfbp2a</td>\n",
       "      <td>794176</td>\n",
       "      <td>ENSDARG00000052470</td>\n",
       "    </tr>\n",
       "    <tr>\n",
       "      <th>3</th>\n",
       "      <td>ZDB-GENE-000125-4</td>\n",
       "      <td>dlc</td>\n",
       "      <td>30120</td>\n",
       "      <td>ENSDARG00000002336</td>\n",
       "    </tr>\n",
       "    <tr>\n",
       "      <th>4</th>\n",
       "      <td>ZDB-GENE-000128-11</td>\n",
       "      <td>dbx1b</td>\n",
       "      <td>30416</td>\n",
       "      <td>ENSDARG00000001859</td>\n",
       "    </tr>\n",
       "    <tr>\n",
       "      <th>...</th>\n",
       "      <td>...</td>\n",
       "      <td>...</td>\n",
       "      <td>...</td>\n",
       "      <td>...</td>\n",
       "    </tr>\n",
       "    <tr>\n",
       "      <th>30298</th>\n",
       "      <td>ZDB-SNORNAG-201111-1</td>\n",
       "      <td>snord118a</td>\n",
       "      <td>NaN</td>\n",
       "      <td>ENSDARG00000082850</td>\n",
       "    </tr>\n",
       "    <tr>\n",
       "      <th>30299</th>\n",
       "      <td>ZDB-SNORNAG-201111-2</td>\n",
       "      <td>snord118b.1</td>\n",
       "      <td>NaN</td>\n",
       "      <td>ENSDARG00000115663</td>\n",
       "    </tr>\n",
       "    <tr>\n",
       "      <th>30300</th>\n",
       "      <td>ZDB-SNORNAG-201111-3</td>\n",
       "      <td>snord118b.2</td>\n",
       "      <td>NaN</td>\n",
       "      <td>ENSDARG00000109514</td>\n",
       "    </tr>\n",
       "    <tr>\n",
       "      <th>30301</th>\n",
       "      <td>ZDB-SNORNAG-201111-4</td>\n",
       "      <td>snord118b.3</td>\n",
       "      <td>NaN</td>\n",
       "      <td>ENSDARG00000081379</td>\n",
       "    </tr>\n",
       "    <tr>\n",
       "      <th>30302</th>\n",
       "      <td>ZDB-SNORNAG-201111-5</td>\n",
       "      <td>snord118b.4</td>\n",
       "      <td>NaN</td>\n",
       "      <td>ENSDARG00000080633</td>\n",
       "    </tr>\n",
       "  </tbody>\n",
       "</table>\n",
       "<p>30303 rows × 4 columns</p>\n",
       "</div>"
      ],
      "text/plain": [
       "                    ZFIN ID          Symbol NCBI Gene ID          Ensembl ID\n",
       "0         ZDB-BR-071004-117  br.line.zfl2-1    100126124                 NaN\n",
       "1        ZDB-GENE-000112-47          ppardb        30754  ENSDARG00000009473\n",
       "2        ZDB-GENE-000125-12         igfbp2a       794176  ENSDARG00000052470\n",
       "3         ZDB-GENE-000125-4             dlc        30120  ENSDARG00000002336\n",
       "4        ZDB-GENE-000128-11           dbx1b        30416  ENSDARG00000001859\n",
       "...                     ...             ...          ...                 ...\n",
       "30298  ZDB-SNORNAG-201111-1       snord118a          NaN  ENSDARG00000082850\n",
       "30299  ZDB-SNORNAG-201111-2     snord118b.1          NaN  ENSDARG00000115663\n",
       "30300  ZDB-SNORNAG-201111-3     snord118b.2          NaN  ENSDARG00000109514\n",
       "30301  ZDB-SNORNAG-201111-4     snord118b.3          NaN  ENSDARG00000081379\n",
       "30302  ZDB-SNORNAG-201111-5     snord118b.4          NaN  ENSDARG00000080633\n",
       "\n",
       "[30303 rows x 4 columns]"
      ]
     },
     "execution_count": 17,
     "metadata": {},
     "output_type": "execute_result"
    }
   ],
   "source": [
    "NCBI_ID = 'NCBI Gene ID'\n",
    "file_path = database_dir / Path('master_gene_mapping_file_V1.txt')\n",
    "master_mapping = pd.read_csv(file_path, sep='\\t')\n",
    "master_mapping"
   ]
  },
  {
   "cell_type": "code",
   "execution_count": 18,
   "metadata": {},
   "outputs": [
    {
     "data": {
      "text/plain": [
       "str"
      ]
     },
     "execution_count": 18,
     "metadata": {},
     "output_type": "execute_result"
    }
   ],
   "source": [
    "type(master_mapping[NCBI_ID].values[0])"
   ]
  },
  {
   "cell_type": "code",
   "execution_count": 19,
   "metadata": {},
   "outputs": [
    {
     "data": {
      "text/html": [
       "<div>\n",
       "<style scoped>\n",
       "    .dataframe tbody tr th:only-of-type {\n",
       "        vertical-align: middle;\n",
       "    }\n",
       "\n",
       "    .dataframe tbody tr th {\n",
       "        vertical-align: top;\n",
       "    }\n",
       "\n",
       "    .dataframe thead th {\n",
       "        text-align: right;\n",
       "    }\n",
       "</style>\n",
       "<table border=\"1\" class=\"dataframe\">\n",
       "  <thead>\n",
       "    <tr style=\"text-align: right;\">\n",
       "      <th></th>\n",
       "      <th>ZFIN ID</th>\n",
       "      <th>Symbol</th>\n",
       "      <th>NCBI Gene ID</th>\n",
       "      <th>Ensembl ID</th>\n",
       "    </tr>\n",
       "  </thead>\n",
       "  <tbody>\n",
       "    <tr>\n",
       "      <th>0</th>\n",
       "      <td>ZDB-BR-071004-117</td>\n",
       "      <td>br.line.zfl2-1</td>\n",
       "      <td>100126124</td>\n",
       "      <td>NaN</td>\n",
       "    </tr>\n",
       "    <tr>\n",
       "      <th>1</th>\n",
       "      <td>ZDB-GENE-000112-47</td>\n",
       "      <td>ppardb</td>\n",
       "      <td>30754</td>\n",
       "      <td>ENSDARG00000009473</td>\n",
       "    </tr>\n",
       "    <tr>\n",
       "      <th>2</th>\n",
       "      <td>ZDB-GENE-000125-12</td>\n",
       "      <td>igfbp2a</td>\n",
       "      <td>794176</td>\n",
       "      <td>ENSDARG00000052470</td>\n",
       "    </tr>\n",
       "    <tr>\n",
       "      <th>3</th>\n",
       "      <td>ZDB-GENE-000125-4</td>\n",
       "      <td>dlc</td>\n",
       "      <td>30120</td>\n",
       "      <td>ENSDARG00000002336</td>\n",
       "    </tr>\n",
       "    <tr>\n",
       "      <th>4</th>\n",
       "      <td>ZDB-GENE-000128-11</td>\n",
       "      <td>dbx1b</td>\n",
       "      <td>30416</td>\n",
       "      <td>ENSDARG00000001859</td>\n",
       "    </tr>\n",
       "    <tr>\n",
       "      <th>...</th>\n",
       "      <td>...</td>\n",
       "      <td>...</td>\n",
       "      <td>...</td>\n",
       "      <td>...</td>\n",
       "    </tr>\n",
       "    <tr>\n",
       "      <th>30298</th>\n",
       "      <td>ZDB-SNORNAG-201111-1</td>\n",
       "      <td>snord118a</td>\n",
       "      <td>nan</td>\n",
       "      <td>ENSDARG00000082850</td>\n",
       "    </tr>\n",
       "    <tr>\n",
       "      <th>30299</th>\n",
       "      <td>ZDB-SNORNAG-201111-2</td>\n",
       "      <td>snord118b.1</td>\n",
       "      <td>nan</td>\n",
       "      <td>ENSDARG00000115663</td>\n",
       "    </tr>\n",
       "    <tr>\n",
       "      <th>30300</th>\n",
       "      <td>ZDB-SNORNAG-201111-3</td>\n",
       "      <td>snord118b.2</td>\n",
       "      <td>nan</td>\n",
       "      <td>ENSDARG00000109514</td>\n",
       "    </tr>\n",
       "    <tr>\n",
       "      <th>30301</th>\n",
       "      <td>ZDB-SNORNAG-201111-4</td>\n",
       "      <td>snord118b.3</td>\n",
       "      <td>nan</td>\n",
       "      <td>ENSDARG00000081379</td>\n",
       "    </tr>\n",
       "    <tr>\n",
       "      <th>30302</th>\n",
       "      <td>ZDB-SNORNAG-201111-5</td>\n",
       "      <td>snord118b.4</td>\n",
       "      <td>nan</td>\n",
       "      <td>ENSDARG00000080633</td>\n",
       "    </tr>\n",
       "  </tbody>\n",
       "</table>\n",
       "<p>30303 rows × 4 columns</p>\n",
       "</div>"
      ],
      "text/plain": [
       "                    ZFIN ID          Symbol NCBI Gene ID          Ensembl ID\n",
       "0         ZDB-BR-071004-117  br.line.zfl2-1    100126124                 NaN\n",
       "1        ZDB-GENE-000112-47          ppardb        30754  ENSDARG00000009473\n",
       "2        ZDB-GENE-000125-12         igfbp2a       794176  ENSDARG00000052470\n",
       "3         ZDB-GENE-000125-4             dlc        30120  ENSDARG00000002336\n",
       "4        ZDB-GENE-000128-11           dbx1b        30416  ENSDARG00000001859\n",
       "...                     ...             ...          ...                 ...\n",
       "30298  ZDB-SNORNAG-201111-1       snord118a          nan  ENSDARG00000082850\n",
       "30299  ZDB-SNORNAG-201111-2     snord118b.1          nan  ENSDARG00000115663\n",
       "30300  ZDB-SNORNAG-201111-3     snord118b.2          nan  ENSDARG00000109514\n",
       "30301  ZDB-SNORNAG-201111-4     snord118b.3          nan  ENSDARG00000081379\n",
       "30302  ZDB-SNORNAG-201111-5     snord118b.4          nan  ENSDARG00000080633\n",
       "\n",
       "[30303 rows x 4 columns]"
      ]
     },
     "execution_count": 19,
     "metadata": {},
     "output_type": "execute_result"
    }
   ],
   "source": [
    "master_mapping[NCBI_ID] = master_mapping[NCBI_ID].astype(str)\n",
    "master_mapping"
   ]
  },
  {
   "cell_type": "code",
   "execution_count": null,
   "metadata": {},
   "outputs": [],
   "source": []
  }
 ],
 "metadata": {
  "kernelspec": {
   "display_name": "bioinfo",
   "language": "python",
   "name": "python3"
  },
  "language_info": {
   "codemirror_mode": {
    "name": "ipython",
    "version": 3
   },
   "file_extension": ".py",
   "mimetype": "text/x-python",
   "name": "python",
   "nbconvert_exporter": "python",
   "pygments_lexer": "ipython3",
   "version": "3.9.16"
  },
  "orig_nbformat": 4
 },
 "nbformat": 4,
 "nbformat_minor": 2
}
