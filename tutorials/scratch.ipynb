{
 "cells": [
  {
   "cell_type": "code",
   "execution_count": 1,
   "metadata": {},
   "outputs": [],
   "source": [
    "# IMPORT PYTHON PACKAGES\n",
    "# ----------------------\n",
    "\n",
    "# makes the notebook cell print all outputs\n",
    "from IPython.core.interactiveshell import InteractiveShell\n",
    "InteractiveShell.ast_node_interactivity = 'all'\n",
    "# path packages\n",
    "import sys\n",
    "from pathlib import Path\n",
    "# data processing packages\n",
    "import pandas as pd\n",
    "# SET UP MY LOCAL PACKAGE\n",
    "# -----------------------\n",
    "# this step is only needed because the local package has not been released through pip\n",
    "\n",
    "cwd = Path().absolute()\n",
    "\n",
    "package_folder = cwd / Path('../src/danRerLib')\n",
    "sys.path.append(str(package_folder))\n",
    "import mapping, utils, KEGG, GO, settings\n",
    "\n",
    "# SET UP DATA DIRECTORY\n",
    "# ---------------------\n",
    "test_data_dir = cwd / Path('data/test/data/')\n",
    "out_data_dir = cwd / Path('data/out_data/')\n",
    "\n",
    "# note: I am using the Path package to take care of any operating\n",
    "#       system differences for users of this tutorial"
   ]
  },
  {
   "cell_type": "code",
   "execution_count": 11,
   "metadata": {},
   "outputs": [
    {
     "data": {
      "text/plain": [
       "['ENSDARG00000054292',\n",
       " 'ENSDARG00000038780',\n",
       " 'ENSDARG00000002406',\n",
       " 'ENSDARG00000089310',\n",
       " 'ENSDARG00000100596',\n",
       " 'ENSDARG00000030881',\n",
       " 'ENSDARG00000063570',\n",
       " 'ENSDARG00000099828',\n",
       " 'ENSDARG00000094489',\n",
       " 'ENSDARG00000080838']"
      ]
     },
     "execution_count": 11,
     "metadata": {},
     "output_type": "execute_result"
    }
   ],
   "source": [
    "# get 10 random ZFIN ids:\n",
    "\n",
    "zfin_path = '../src/danRerlib/database/raw_data/zfin_to_ensembl_V1.txt'\n",
    "\n",
    "df = pd.read_csv(zfin_path, sep = '\\t')\n",
    "trash = df['ZFIN ID'].sample(10).to_list()\n",
    "\n",
    "random_entries = ['ZDB-GENE-040426-1218',\n",
    " 'ZDB-GENE-030616-582',\n",
    " 'ZDB-GENE-050327-38',\n",
    " 'ZDB-GENE-050302-29',\n",
    " 'ZDB-MIRNAG-090929-162',\n",
    " 'ZDB-GENE-041111-305',\n",
    " 'ZDB-GENE-040426-1159',\n",
    " 'ZDB-GENE-050227-21',\n",
    " 'ZDB-GENE-060526-320',\n",
    " 'ZDB-GENE-040718-307']\n",
    "\n",
    "filtered_df = df[df['ZFIN ID'].isin(random_entries)][['Ensembl ID']]\n",
    "filtered_df['Ensembl ID'].to_list()\n"
   ]
  },
  {
   "cell_type": "code",
   "execution_count": 2,
   "metadata": {},
   "outputs": [
    {
     "data": {
      "text/plain": [
       "['ENSDARG00000054292',\n",
       " 'ENSDARG00000038780',\n",
       " 'ENSDARG00000002406',\n",
       " 'ENSDARG00000089310',\n",
       " 'ENSDARG00000100596',\n",
       " 'ENSDARG00000030881',\n",
       " 'ENSDARG00000063570',\n",
       " 'ENSDARG00000099828',\n",
       " 'ENSDARG00000094489',\n",
       " 'ENSDARG00000080838']"
      ]
     },
     "execution_count": 2,
     "metadata": {},
     "output_type": "execute_result"
    }
   ],
   "source": [
    "zfin_ids = ['ZDB-GENE-040426-1218',\n",
    "    'ZDB-GENE-030616-582',\n",
    "    'ZDB-GENE-050327-38',\n",
    "    'ZDB-GENE-050302-29',\n",
    "    'ZDB-MIRNAG-090929-162',\n",
    "    'ZDB-GENE-041111-305',\n",
    "    'ZDB-GENE-040426-1159',\n",
    "    'ZDB-GENE-050227-21',\n",
    "    'ZDB-GENE-060526-320',\n",
    "    'ZDB-GENE-040718-307']\n",
    "\n",
    "ens_ids = ['ENSDARG00000054292',\n",
    "    'ENSDARG00000038780',\n",
    "    'ENSDARG00000002406',\n",
    "    'ENSDARG00000089310',\n",
    "    'ENSDARG00000100596',\n",
    "    'ENSDARG00000030881',\n",
    "    'ENSDARG00000063570',\n",
    "    'ENSDARG00000099828',\n",
    "    'ENSDARG00000094489',\n",
    "    'ENSDARG00000080838']\n",
    "\n",
    "out_ids = mapping.convert_ids(zfin_ids, settings.ZFIN_ID, settings.ENS_ID, out_format=list)\n",
    "out_ids"
   ]
  },
  {
   "cell_type": "code",
   "execution_count": 8,
   "metadata": {},
   "outputs": [],
   "source": [
    "# create a function to determine how many GO concepts there are\n",
    "# It seems that the GO file does not have organism specified\n",
    "\n",
    "# I am curious to know if the ZFIN file has duplicates\n"
   ]
  },
  {
   "cell_type": "code",
   "execution_count": 60,
   "metadata": {},
   "outputs": [
    {
     "data": {
      "text/html": [
       "<div>\n",
       "<style scoped>\n",
       "    .dataframe tbody tr th:only-of-type {\n",
       "        vertical-align: middle;\n",
       "    }\n",
       "\n",
       "    .dataframe tbody tr th {\n",
       "        vertical-align: top;\n",
       "    }\n",
       "\n",
       "    .dataframe thead th {\n",
       "        text-align: right;\n",
       "    }\n",
       "</style>\n",
       "<table border=\"1\" class=\"dataframe\">\n",
       "  <thead>\n",
       "    <tr style=\"text-align: right;\">\n",
       "      <th></th>\n",
       "      <th>Database Designation</th>\n",
       "      <th>Marker ID</th>\n",
       "      <th>Gene Symbol</th>\n",
       "      <th>Qualifiers</th>\n",
       "      <th>GO Term ID</th>\n",
       "      <th>Reference ID</th>\n",
       "      <th>GO Evidence Code</th>\n",
       "      <th>Inferred From</th>\n",
       "      <th>Ontology</th>\n",
       "      <th>Marker Name</th>\n",
       "      <th>Marker Synonyms</th>\n",
       "      <th>Marker Type</th>\n",
       "      <th>Taxon</th>\n",
       "      <th>Modification Date</th>\n",
       "      <th>Assigned By</th>\n",
       "      <th>Annotation Extension</th>\n",
       "      <th>Gene Product Form ID</th>\n",
       "    </tr>\n",
       "  </thead>\n",
       "  <tbody>\n",
       "    <tr>\n",
       "      <th>0</th>\n",
       "      <td>ZFIN</td>\n",
       "      <td>ZDB-GENE-080212-6</td>\n",
       "      <td>zgc:173705</td>\n",
       "      <td>enables</td>\n",
       "      <td>GO:0046872</td>\n",
       "      <td>ZFIN:ZDB-PUB-020723-1</td>\n",
       "      <td>IEA</td>\n",
       "      <td>UniProtKB-KW:KW-0479</td>\n",
       "      <td>F</td>\n",
       "      <td>zgc:173705</td>\n",
       "      <td>NaN</td>\n",
       "      <td>protein_coding_gene</td>\n",
       "      <td>taxon:7955</td>\n",
       "      <td>20220830</td>\n",
       "      <td>ZFIN</td>\n",
       "      <td>NaN</td>\n",
       "      <td>NaN</td>\n",
       "    </tr>\n",
       "    <tr>\n",
       "      <th>1</th>\n",
       "      <td>ZFIN</td>\n",
       "      <td>ZDB-GENE-040801-101</td>\n",
       "      <td>zgc:101048</td>\n",
       "      <td>enables</td>\n",
       "      <td>GO:0046872</td>\n",
       "      <td>ZFIN:ZDB-PUB-020723-1</td>\n",
       "      <td>IEA</td>\n",
       "      <td>UniProtKB-KW:KW-0479</td>\n",
       "      <td>F</td>\n",
       "      <td>zgc:101048</td>\n",
       "      <td>NaN</td>\n",
       "      <td>protein_coding_gene</td>\n",
       "      <td>taxon:7955</td>\n",
       "      <td>20220830</td>\n",
       "      <td>ZFIN</td>\n",
       "      <td>NaN</td>\n",
       "      <td>NaN</td>\n",
       "    </tr>\n",
       "    <tr>\n",
       "      <th>2</th>\n",
       "      <td>ZFIN</td>\n",
       "      <td>ZDB-GENE-081028-59</td>\n",
       "      <td>si:ch211-165e15.1</td>\n",
       "      <td>enables</td>\n",
       "      <td>GO:0003779</td>\n",
       "      <td>ZFIN:ZDB-PUB-020723-1</td>\n",
       "      <td>IEA</td>\n",
       "      <td>UniProtKB-KW:KW-0009</td>\n",
       "      <td>F</td>\n",
       "      <td>si:ch211-165e15.1</td>\n",
       "      <td>NaN</td>\n",
       "      <td>protein_coding_gene</td>\n",
       "      <td>taxon:7955</td>\n",
       "      <td>20220830</td>\n",
       "      <td>ZFIN</td>\n",
       "      <td>NaN</td>\n",
       "      <td>NaN</td>\n",
       "    </tr>\n",
       "  </tbody>\n",
       "</table>\n",
       "</div>"
      ],
      "text/plain": [
       "  Database Designation            Marker ID        Gene Symbol Qualifiers  \\\n",
       "0                 ZFIN    ZDB-GENE-080212-6         zgc:173705    enables   \n",
       "1                 ZFIN  ZDB-GENE-040801-101         zgc:101048    enables   \n",
       "2                 ZFIN   ZDB-GENE-081028-59  si:ch211-165e15.1    enables   \n",
       "\n",
       "   GO Term ID           Reference ID GO Evidence Code         Inferred From  \\\n",
       "0  GO:0046872  ZFIN:ZDB-PUB-020723-1              IEA  UniProtKB-KW:KW-0479   \n",
       "1  GO:0046872  ZFIN:ZDB-PUB-020723-1              IEA  UniProtKB-KW:KW-0479   \n",
       "2  GO:0003779  ZFIN:ZDB-PUB-020723-1              IEA  UniProtKB-KW:KW-0009   \n",
       "\n",
       "  Ontology        Marker Name Marker Synonyms          Marker Type  \\\n",
       "0        F         zgc:173705             NaN  protein_coding_gene   \n",
       "1        F         zgc:101048             NaN  protein_coding_gene   \n",
       "2        F  si:ch211-165e15.1             NaN  protein_coding_gene   \n",
       "\n",
       "        Taxon  Modification Date Assigned By Annotation Extension  \\\n",
       "0  taxon:7955           20220830        ZFIN                  NaN   \n",
       "1  taxon:7955           20220830        ZFIN                  NaN   \n",
       "2  taxon:7955           20220830        ZFIN                  NaN   \n",
       "\n",
       "  Gene Product Form ID  \n",
       "0                  NaN  \n",
       "1                  NaN  \n",
       "2                  NaN  "
      ]
     },
     "execution_count": 60,
     "metadata": {},
     "output_type": "execute_result"
    }
   ],
   "source": [
    "# download file into workspace...\n",
    "# note this is in tsv format already\n",
    "url = 'https://current.geneontology.org/annotations/zfin.gaf.gz'\n",
    "column_names = ['Database Designation',\n",
    "                'Marker ID',\n",
    "                'Gene Symbol',\n",
    "                'Qualifiers',\n",
    "                'GO Term ID',\n",
    "                'Reference ID',\n",
    "                'GO Evidence Code',\n",
    "                'Inferred From',\n",
    "                'Ontology',\n",
    "                'Marker Name',\n",
    "                'Marker Synonyms',\n",
    "                'Marker Type',\n",
    "                'Taxon',\n",
    "                'Modification Date',\n",
    "                'Assigned By',\n",
    "                'Annotation Extension', \n",
    "                'Gene Product Form ID']\n",
    "df = pd.read_csv(url, sep='\\t', comment='!', names=column_names, low_memory=False)\n",
    "desired_columns = ['Marker ID', 'GO Term ID', 'Ontology']\n",
    "df = df.loc[:, desired_columns].drop_duplicates()\n",
    "df.head(3)"
   ]
  },
  {
   "cell_type": "code",
   "execution_count": 56,
   "metadata": {},
   "outputs": [
    {
     "name": "stdout",
     "output_type": "stream",
     "text": [
      "Number of unique GO Term IDs: 10420\n"
     ]
    }
   ],
   "source": [
    "num_unique_terms = df['GO Term ID'].nunique()\n",
    "print(\"Number of unique GO Term IDs:\", num_unique_terms)"
   ]
  },
  {
   "cell_type": "code",
   "execution_count": 72,
   "metadata": {},
   "outputs": [],
   "source": [
    "def _get_ontology(namespace):\n",
    "    if (namespace == 'biological_process'\n",
    "        or namespace == 'Process') :\n",
    "        return 'P'\n",
    "    elif (namespace == 'molecular_function'\n",
    "          or namespace == 'Function'):\n",
    "        return 'F'\n",
    "    elif (namespace == 'cellular_component'\n",
    "          or namespace == 'Component'):\n",
    "        return 'C'\n",
    "    else:\n",
    "        return None"
   ]
  },
  {
   "cell_type": "code",
   "execution_count": 77,
   "metadata": {},
   "outputs": [
    {
     "data": {
      "text/plain": [
       "(294559, 3)"
      ]
     },
     "execution_count": 77,
     "metadata": {},
     "output_type": "execute_result"
    }
   ],
   "source": [
    "# lets try the ncbi set\n",
    "url = 'https://ftp.ncbi.nlm.nih.gov/gene/DATA/gene2go.gz'\n",
    "df = pd.read_csv(url, sep='\\t', compression='gzip')\n",
    "df = df[df['#tax_id']==9606]\n",
    "desired_columns = ['GeneID', 'GO_ID', 'Category']\n",
    "df = df.loc[:, desired_columns].drop_duplicates()\n",
    "new_column_names = {'GeneID': 'Human NCBI Gene ID',\n",
    "                    'GO_ID': 'GO ID',\n",
    "                    'Category' : 'Orthology'}\n",
    "df.rename(columns=new_column_names, inplace=True)\n",
    "df['Orthology'] = df['Orthology'].apply(_get_ontology)\n",
    "df.shape\n"
   ]
  },
  {
   "cell_type": "code",
   "execution_count": 62,
   "metadata": {},
   "outputs": [
    {
     "data": {
      "text/plain": [
       "(526560, 8)"
      ]
     },
     "execution_count": 62,
     "metadata": {},
     "output_type": "execute_result"
    }
   ],
   "source": [
    "df.shape"
   ]
  },
  {
   "cell_type": "code",
   "execution_count": 63,
   "metadata": {},
   "outputs": [
    {
     "data": {
      "text/plain": [
       "(526560, 8)"
      ]
     },
     "execution_count": 63,
     "metadata": {},
     "output_type": "execute_result"
    }
   ],
   "source": [
    "df = df.drop_duplicates()\n",
    "df.shape"
   ]
  },
  {
   "cell_type": "code",
   "execution_count": 64,
   "metadata": {},
   "outputs": [
    {
     "name": "stdout",
     "output_type": "stream",
     "text": [
      "Count of #tax_id = 7955: 182632\n",
      "Count of #tax_id = 9606: 343928\n"
     ]
    }
   ],
   "source": [
    "# Assuming 'df' is your DataFrame\n",
    "counts = df['#tax_id'].value_counts()\n",
    "\n",
    "count_7955 = counts.get(7955, 0)\n",
    "count_9606 = counts.get(9606, 0)\n",
    "\n",
    "print(\"Count of #tax_id = 7955:\", count_7955)\n",
    "print(\"Count of #tax_id = 9606:\", count_9606)"
   ]
  },
  {
   "cell_type": "code",
   "execution_count": 66,
   "metadata": {},
   "outputs": [
    {
     "name": "stdout",
     "output_type": "stream",
     "text": [
      "Number of unique GO_ID terms where #tax_id = 7955: 10334\n"
     ]
    }
   ],
   "source": [
    "\n",
    "# Assuming 'df' is your DataFrame\n",
    "unique_go_terms_7955 = df[df['#tax_id'] == 7955]['GO_ID'].nunique()\n",
    "\n",
    "print(\"Number of unique GO_ID terms where #tax_id = 7955:\", unique_go_terms_7955)"
   ]
  },
  {
   "cell_type": "markdown",
   "metadata": {},
   "source": []
  },
  {
   "cell_type": "markdown",
   "metadata": {},
   "source": [
    "split zebrafish and human taxid"
   ]
  },
  {
   "cell_type": "code",
   "execution_count": null,
   "metadata": {},
   "outputs": [],
   "source": [
    "zfish = "
   ]
  },
  {
   "cell_type": "code",
   "execution_count": null,
   "metadata": {},
   "outputs": [],
   "source": [
    "# make zebrafish GO database:\n",
    "\n",
    "# download file into workspace...\n",
    "# note this is in tsv format already\n",
    "url = 'https://current.geneontology.org/annotations/zfin.gaf.gz'\n",
    "column_names = ['Database Designation',\n",
    "                'Marker ID',\n",
    "                'Gene Symbol',\n",
    "                'Qualifiers',\n",
    "                'GO Term ID',\n",
    "                'Reference ID',\n",
    "                'GO Evidence Code',\n",
    "                'Inferred From',\n",
    "                'Ontology',\n",
    "                'Marker Name',\n",
    "                'Marker Synonyms',\n",
    "                'Marker Type',\n",
    "                'Taxon',\n",
    "                'Modification Date',\n",
    "                'Assigned By',\n",
    "                'Annotation Extension', \n",
    "                'Gene Product Form ID']\n",
    "df = pd.read_csv(url, sep='\\t', comment='!', names=column_names, low_memory=False)\n",
    "desired_columns = ['Marker ID', 'GO Term ID', 'Ontology']\n",
    "df = df.loc[:, desired_columns].drop_duplicates()\n",
    "new_column_names = {'Marker ID': 'ZFIN ID',\n",
    "                    'GO Term ID': 'GO ID'}\n",
    "df.rename(columns=new_column_names, inplace=True)\n"
   ]
  },
  {
   "cell_type": "code",
   "execution_count": 79,
   "metadata": {},
   "outputs": [
    {
     "data": {
      "text/html": [
       "<div>\n",
       "<style scoped>\n",
       "    .dataframe tbody tr th:only-of-type {\n",
       "        vertical-align: middle;\n",
       "    }\n",
       "\n",
       "    .dataframe tbody tr th {\n",
       "        vertical-align: top;\n",
       "    }\n",
       "\n",
       "    .dataframe thead th {\n",
       "        text-align: right;\n",
       "    }\n",
       "</style>\n",
       "<table border=\"1\" class=\"dataframe\">\n",
       "  <thead>\n",
       "    <tr style=\"text-align: right;\">\n",
       "      <th></th>\n",
       "      <th>GO ID</th>\n",
       "      <th>GO Name</th>\n",
       "      <th>Ontology</th>\n",
       "      <th>exists_hsa</th>\n",
       "      <th>exists_dre</th>\n",
       "    </tr>\n",
       "  </thead>\n",
       "  <tbody>\n",
       "    <tr>\n",
       "      <th>0</th>\n",
       "      <td>GO:0000001</td>\n",
       "      <td>mitochondrion inheritance</td>\n",
       "      <td>P</td>\n",
       "      <td>False</td>\n",
       "      <td>False</td>\n",
       "    </tr>\n",
       "    <tr>\n",
       "      <th>1</th>\n",
       "      <td>GO:0000002</td>\n",
       "      <td>mitochondrial genome maintenance</td>\n",
       "      <td>P</td>\n",
       "      <td>True</td>\n",
       "      <td>True</td>\n",
       "    </tr>\n",
       "    <tr>\n",
       "      <th>2</th>\n",
       "      <td>GO:0000003</td>\n",
       "      <td>reproduction</td>\n",
       "      <td>P</td>\n",
       "      <td>True</td>\n",
       "      <td>True</td>\n",
       "    </tr>\n",
       "    <tr>\n",
       "      <th>3</th>\n",
       "      <td>GO:0000005</td>\n",
       "      <td>obsolete ribosomal chaperone activity</td>\n",
       "      <td>F</td>\n",
       "      <td>False</td>\n",
       "      <td>False</td>\n",
       "    </tr>\n",
       "    <tr>\n",
       "      <th>4</th>\n",
       "      <td>GO:0000006</td>\n",
       "      <td>high-affinity zinc transmembrane transporter a...</td>\n",
       "      <td>F</td>\n",
       "      <td>False</td>\n",
       "      <td>False</td>\n",
       "    </tr>\n",
       "    <tr>\n",
       "      <th>...</th>\n",
       "      <td>...</td>\n",
       "      <td>...</td>\n",
       "      <td>...</td>\n",
       "      <td>...</td>\n",
       "      <td>...</td>\n",
       "    </tr>\n",
       "    <tr>\n",
       "      <th>47552</th>\n",
       "      <td>GO:2001312</td>\n",
       "      <td>lysobisphosphatidic acid biosynthetic process</td>\n",
       "      <td>P</td>\n",
       "      <td>False</td>\n",
       "      <td>False</td>\n",
       "    </tr>\n",
       "    <tr>\n",
       "      <th>47553</th>\n",
       "      <td>GO:2001313</td>\n",
       "      <td>UDP-4-deoxy-4-formamido-beta-L-arabinopyranose...</td>\n",
       "      <td>P</td>\n",
       "      <td>False</td>\n",
       "      <td>False</td>\n",
       "    </tr>\n",
       "    <tr>\n",
       "      <th>47554</th>\n",
       "      <td>GO:2001314</td>\n",
       "      <td>UDP-4-deoxy-4-formamido-beta-L-arabinopyranose...</td>\n",
       "      <td>P</td>\n",
       "      <td>False</td>\n",
       "      <td>False</td>\n",
       "    </tr>\n",
       "    <tr>\n",
       "      <th>47555</th>\n",
       "      <td>GO:2001315</td>\n",
       "      <td>UDP-4-deoxy-4-formamido-beta-L-arabinopyranose...</td>\n",
       "      <td>P</td>\n",
       "      <td>False</td>\n",
       "      <td>False</td>\n",
       "    </tr>\n",
       "    <tr>\n",
       "      <th>47556</th>\n",
       "      <td>GO:2001316</td>\n",
       "      <td>kojic acid metabolic process</td>\n",
       "      <td>P</td>\n",
       "      <td>False</td>\n",
       "      <td>False</td>\n",
       "    </tr>\n",
       "  </tbody>\n",
       "</table>\n",
       "<p>47557 rows × 5 columns</p>\n",
       "</div>"
      ],
      "text/plain": [
       "            GO ID                                            GO Name Ontology  \\\n",
       "0      GO:0000001                          mitochondrion inheritance        P   \n",
       "1      GO:0000002                   mitochondrial genome maintenance        P   \n",
       "2      GO:0000003                                       reproduction        P   \n",
       "3      GO:0000005              obsolete ribosomal chaperone activity        F   \n",
       "4      GO:0000006  high-affinity zinc transmembrane transporter a...        F   \n",
       "...           ...                                                ...      ...   \n",
       "47552  GO:2001312      lysobisphosphatidic acid biosynthetic process        P   \n",
       "47553  GO:2001313  UDP-4-deoxy-4-formamido-beta-L-arabinopyranose...        P   \n",
       "47554  GO:2001314  UDP-4-deoxy-4-formamido-beta-L-arabinopyranose...        P   \n",
       "47555  GO:2001315  UDP-4-deoxy-4-formamido-beta-L-arabinopyranose...        P   \n",
       "47556  GO:2001316                       kojic acid metabolic process        P   \n",
       "\n",
       "       exists_hsa  exists_dre  \n",
       "0           False       False  \n",
       "1            True        True  \n",
       "2            True        True  \n",
       "3           False       False  \n",
       "4           False       False  \n",
       "...           ...         ...  \n",
       "47552       False       False  \n",
       "47553       False       False  \n",
       "47554       False       False  \n",
       "47555       False       False  \n",
       "47556       False       False  \n",
       "\n",
       "[47557 rows x 5 columns]"
      ]
     },
     "execution_count": 79,
     "metadata": {},
     "output_type": "execute_result"
    }
   ],
   "source": [
    "# read in necessary files\n",
    "\n",
    "main = '../src/danRerlib/database/GO/GO_ids_V1.txt'\n",
    "zfish = '../src/danRerlib/database/GO/GO_dre_V1.txt'\n",
    "human = '../src/danRerlib/database/GO/GO_hsa_V1.txt'\n",
    "\n",
    "df = pd.read_csv(main, sep='\\t')\n",
    "df_zfish = pd.read_csv(zfish, sep='\\t')\n",
    "df_human = pd.read_csv(human, sep='\\t')\n",
    "\n",
    "df['exists_hsa'] = df['GO ID'].isin(df_human['GO ID'])\n",
    "df['exists_dre'] = df['GO ID'].isin(df_zfish['GO ID'])\n",
    "df\n"
   ]
  },
  {
   "cell_type": "code",
   "execution_count": 3,
   "metadata": {},
   "outputs": [
    {
     "data": {
      "text/html": [
       "<div>\n",
       "<style scoped>\n",
       "    .dataframe tbody tr th:only-of-type {\n",
       "        vertical-align: middle;\n",
       "    }\n",
       "\n",
       "    .dataframe tbody tr th {\n",
       "        vertical-align: top;\n",
       "    }\n",
       "\n",
       "    .dataframe thead th {\n",
       "        text-align: right;\n",
       "    }\n",
       "</style>\n",
       "<table border=\"1\" class=\"dataframe\">\n",
       "  <thead>\n",
       "    <tr style=\"text-align: right;\">\n",
       "      <th></th>\n",
       "      <th>NCBI Gene ID</th>\n",
       "      <th>GO ID</th>\n",
       "      <th>Ontology</th>\n",
       "    </tr>\n",
       "  </thead>\n",
       "  <tbody>\n",
       "    <tr>\n",
       "      <th>0</th>\n",
       "      <td>103908622</td>\n",
       "      <td>GO:0046872</td>\n",
       "      <td>F</td>\n",
       "    </tr>\n",
       "    <tr>\n",
       "      <th>1</th>\n",
       "      <td>103908622</td>\n",
       "      <td>GO:0000981</td>\n",
       "      <td>F</td>\n",
       "    </tr>\n",
       "    <tr>\n",
       "      <th>2</th>\n",
       "      <td>103908622</td>\n",
       "      <td>GO:0000977</td>\n",
       "      <td>F</td>\n",
       "    </tr>\n",
       "    <tr>\n",
       "      <th>3</th>\n",
       "      <td>103908622</td>\n",
       "      <td>GO:0006357</td>\n",
       "      <td>P</td>\n",
       "    </tr>\n",
       "    <tr>\n",
       "      <th>4</th>\n",
       "      <td>103908622</td>\n",
       "      <td>GO:0005634</td>\n",
       "      <td>C</td>\n",
       "    </tr>\n",
       "    <tr>\n",
       "      <th>...</th>\n",
       "      <td>...</td>\n",
       "      <td>...</td>\n",
       "      <td>...</td>\n",
       "    </tr>\n",
       "    <tr>\n",
       "      <th>176125</th>\n",
       "      <td>100216528</td>\n",
       "      <td>GO:0048514</td>\n",
       "      <td>P</td>\n",
       "    </tr>\n",
       "    <tr>\n",
       "      <th>176130</th>\n",
       "      <td>100033591</td>\n",
       "      <td>GO:0048514</td>\n",
       "      <td>P</td>\n",
       "    </tr>\n",
       "    <tr>\n",
       "      <th>176149</th>\n",
       "      <td>100033691</td>\n",
       "      <td>GO:0035195</td>\n",
       "      <td>P</td>\n",
       "    </tr>\n",
       "    <tr>\n",
       "      <th>176150</th>\n",
       "      <td>100033691</td>\n",
       "      <td>GO:0033339</td>\n",
       "      <td>P</td>\n",
       "    </tr>\n",
       "    <tr>\n",
       "      <th>176168</th>\n",
       "      <td>100033622</td>\n",
       "      <td>GO:0033280</td>\n",
       "      <td>P</td>\n",
       "    </tr>\n",
       "  </tbody>\n",
       "</table>\n",
       "<p>151161 rows × 3 columns</p>\n",
       "</div>"
      ],
      "text/plain": [
       "       NCBI Gene ID       GO ID Ontology\n",
       "0         103908622  GO:0046872        F\n",
       "1         103908622  GO:0000981        F\n",
       "2         103908622  GO:0000977        F\n",
       "3         103908622  GO:0006357        P\n",
       "4         103908622  GO:0005634        C\n",
       "...             ...         ...      ...\n",
       "176125    100216528  GO:0048514        P\n",
       "176130    100033591  GO:0048514        P\n",
       "176149    100033691  GO:0035195        P\n",
       "176150    100033691  GO:0033339        P\n",
       "176168    100033622  GO:0033280        P\n",
       "\n",
       "[151161 rows x 3 columns]"
      ]
     },
     "execution_count": 3,
     "metadata": {},
     "output_type": "execute_result"
    }
   ],
   "source": [
    "GO_PATH_dre = '../src/danRerlib/database/GO/GO_dre_V1.txt'\n",
    "df = pd.read_csv(GO_PATH_dre, sep = '\\t')\n",
    "mapped = mapping.add_mapped_column(df, 'ZFIN ID', 'NCBI Gene ID', keep_old_ids=False, drop_na=True)\n",
    "mapped"
   ]
  },
  {
   "cell_type": "code",
   "execution_count": 4,
   "metadata": {},
   "outputs": [
    {
     "data": {
      "text/html": [
       "<div>\n",
       "<style scoped>\n",
       "    .dataframe tbody tr th:only-of-type {\n",
       "        vertical-align: middle;\n",
       "    }\n",
       "\n",
       "    .dataframe tbody tr th {\n",
       "        vertical-align: top;\n",
       "    }\n",
       "\n",
       "    .dataframe thead th {\n",
       "        text-align: right;\n",
       "    }\n",
       "</style>\n",
       "<table border=\"1\" class=\"dataframe\">\n",
       "  <thead>\n",
       "    <tr style=\"text-align: right;\">\n",
       "      <th></th>\n",
       "      <th>ZFIN ID</th>\n",
       "      <th>GO ID</th>\n",
       "      <th>Ontology</th>\n",
       "    </tr>\n",
       "  </thead>\n",
       "  <tbody>\n",
       "    <tr>\n",
       "      <th>0</th>\n",
       "      <td>ZDB-GENE-080212-6</td>\n",
       "      <td>GO:0046872</td>\n",
       "      <td>F</td>\n",
       "    </tr>\n",
       "    <tr>\n",
       "      <th>1</th>\n",
       "      <td>ZDB-GENE-080212-6</td>\n",
       "      <td>GO:0000981</td>\n",
       "      <td>F</td>\n",
       "    </tr>\n",
       "    <tr>\n",
       "      <th>2</th>\n",
       "      <td>ZDB-GENE-080212-6</td>\n",
       "      <td>GO:0000977</td>\n",
       "      <td>F</td>\n",
       "    </tr>\n",
       "    <tr>\n",
       "      <th>3</th>\n",
       "      <td>ZDB-GENE-080212-6</td>\n",
       "      <td>GO:0006357</td>\n",
       "      <td>P</td>\n",
       "    </tr>\n",
       "    <tr>\n",
       "      <th>4</th>\n",
       "      <td>ZDB-GENE-080212-6</td>\n",
       "      <td>GO:0005634</td>\n",
       "      <td>C</td>\n",
       "    </tr>\n",
       "    <tr>\n",
       "      <th>...</th>\n",
       "      <td>...</td>\n",
       "      <td>...</td>\n",
       "      <td>...</td>\n",
       "    </tr>\n",
       "    <tr>\n",
       "      <th>151184</th>\n",
       "      <td>ZDB-MIRNAG-081209-10</td>\n",
       "      <td>GO:0048514</td>\n",
       "      <td>P</td>\n",
       "    </tr>\n",
       "    <tr>\n",
       "      <th>151185</th>\n",
       "      <td>ZDB-MIRNAG-081209-8</td>\n",
       "      <td>GO:0048514</td>\n",
       "      <td>P</td>\n",
       "    </tr>\n",
       "    <tr>\n",
       "      <th>151186</th>\n",
       "      <td>ZDB-MIRNAG-081212-1</td>\n",
       "      <td>GO:0035195</td>\n",
       "      <td>P</td>\n",
       "    </tr>\n",
       "    <tr>\n",
       "      <th>151187</th>\n",
       "      <td>ZDB-MIRNAG-081212-1</td>\n",
       "      <td>GO:0033339</td>\n",
       "      <td>P</td>\n",
       "    </tr>\n",
       "    <tr>\n",
       "      <th>151188</th>\n",
       "      <td>ZDB-MIRNAG-090929-109</td>\n",
       "      <td>GO:0033280</td>\n",
       "      <td>P</td>\n",
       "    </tr>\n",
       "  </tbody>\n",
       "</table>\n",
       "<p>151189 rows × 3 columns</p>\n",
       "</div>"
      ],
      "text/plain": [
       "                      ZFIN ID       GO ID Ontology\n",
       "0           ZDB-GENE-080212-6  GO:0046872        F\n",
       "1           ZDB-GENE-080212-6  GO:0000981        F\n",
       "2           ZDB-GENE-080212-6  GO:0000977        F\n",
       "3           ZDB-GENE-080212-6  GO:0006357        P\n",
       "4           ZDB-GENE-080212-6  GO:0005634        C\n",
       "...                       ...         ...      ...\n",
       "151184   ZDB-MIRNAG-081209-10  GO:0048514        P\n",
       "151185    ZDB-MIRNAG-081209-8  GO:0048514        P\n",
       "151186    ZDB-MIRNAG-081212-1  GO:0035195        P\n",
       "151187    ZDB-MIRNAG-081212-1  GO:0033339        P\n",
       "151188  ZDB-MIRNAG-090929-109  GO:0033280        P\n",
       "\n",
       "[151189 rows x 3 columns]"
      ]
     },
     "execution_count": 4,
     "metadata": {},
     "output_type": "execute_result"
    }
   ],
   "source": [
    "new_mapped = mapping.add_mapped_column(mapped, 'NCBI Gene ID', 'ZFIN ID', keep_old_ids=False, drop_na=True)\n",
    "new_mapped"
   ]
  },
  {
   "cell_type": "code",
   "execution_count": 14,
   "metadata": {},
   "outputs": [
    {
     "data": {
      "text/plain": [
       "14893       ZDB-GENE-980526-72\n",
       "154216    ZDB-GENE-030131-3197\n",
       "154347      ZDB-GENE-060503-14\n",
       "Name: ZFIN ID, dtype: object"
      ]
     },
     "execution_count": 14,
     "metadata": {},
     "output_type": "execute_result"
    },
    {
     "data": {
      "text/plain": [
       "(53,)"
      ]
     },
     "execution_count": 14,
     "metadata": {},
     "output_type": "execute_result"
    }
   ],
   "source": [
    "concept_id = 'GO:0033339'\n",
    "GO_PATH_dre = '../src/danRerlib/database/GO/GO_dre_V1.txt'\n",
    "GO_PATH_dreM = '../src/danRerlib/database/GO/GO_dreM_V1.txt'\n",
    "GO_PATH_hsa = '../src/danRerlib/database/GO/GO_hsa_V1.txt'\n",
    "\n",
    "GO_BASIC_URL = 'http://purl.obolibrary.org/obo/go/go-basic.obo'\n",
    "GO_ZFIN_URL = 'https://current.geneontology.org/annotations/zfin.gaf.gz'\n",
    "GO_NCBI_URL = 'https://ftp.ncbi.nlm.nih.gov/gene/DATA/gene2go.gz'\n",
    "\n",
    "HUMAN_ID = 'Human NCBI Gene ID'\n",
    "ZFIN_ID = 'ZFIN ID'\n",
    "\n",
    "def get_genes_in_GO_concept(concept_id, organism, gene_id_type = None):\n",
    "    if organism == 'hsa':\n",
    "        path = GO_PATH_hsa\n",
    "        gene_id_type_from_db = HUMAN_ID\n",
    "    elif organism == 'dre':\n",
    "        path = GO_PATH_dre\n",
    "        gene_id_type_from_db = ZFIN_ID\n",
    "    elif organism == 'dreM':\n",
    "        path = GO_PATH_dreM\n",
    "        gene_id_type_from_db = ZFIN_ID\n",
    "    else:\n",
    "        raise ValueError('Invalid organism.')\n",
    "    \n",
    "    df = pd.read_csv(path, sep = '\\t')\n",
    "    filtered_df = df[df['GO ID'] == concept_id]\n",
    "\n",
    "    # Extract the 'ZFIN ID' column as a Series\n",
    "    gene_ids_series = filtered_df[gene_id_type_from_db]\n",
    "    if gene_id_type and (organism != 'hsa'):\n",
    "        gene_ids_series = mapping.convert_ids(gene_ids_series, \n",
    "                            gene_id_type_from_db, gene_id_type)\n",
    "    return gene_ids_series\n",
    "\n",
    "out = get_genes_in_GO_concept(concept_id, 'dre')\n",
    "out.head(3)\n",
    "out.shape"
   ]
  },
  {
   "cell_type": "code",
   "execution_count": 19,
   "metadata": {},
   "outputs": [
    {
     "data": {
      "text/plain": [
       "False"
      ]
     },
     "execution_count": 19,
     "metadata": {},
     "output_type": "execute_result"
    }
   ],
   "source": [
    "# check if GO ID exists\n",
    "GO_IDS_PATH = '../src/danRerlib/database/GO/GO_ids_V1.txt'\n",
    "df = pd.read_csv(GO_IDS_PATH, sep = '\\t')\n",
    "\n",
    "def check_if_id_exists(concept_id, organism):\n",
    "    df = pd.read_csv(GO_IDS_PATH, sep = '\\t')\n",
    "    filtered_df = df[df['GO ID'] == concept_id]\n",
    "    if organism == 'hsa':\n",
    "        target_column = 'exists_hsa'\n",
    "    elif organism == 'dre':\n",
    "        target_column = 'exists_dre'\n",
    "    elif organism == 'dreM':\n",
    "        target_column = 'exists_hsa'\n",
    "    else:\n",
    "        raise ValueError('Invalid Organism')\n",
    "    \n",
    "    return filtered_df[target_column].iloc[0]\n",
    "\n",
    "check_if_id_exists(concept_id, 'dreM')"
   ]
  },
  {
   "cell_type": "code",
   "execution_count": 27,
   "metadata": {},
   "outputs": [],
   "source": [
    "\n",
    "\n",
    "\n",
    "def is_numeric(value):\n",
    "    if type(value) == str:\n",
    "        return value.isnumeric()\n",
    "    else:\n",
    "        return isinstance(value, (int, float))\n",
    "    \n",
    "def check_id_format(id):\n",
    "    if is_numeric(id):\n",
    "        length_of_numeric = len(str(id))\n",
    "        if length_of_numeric < 7:\n",
    "            zeros_needed = 7-length_of_numeric\n",
    "            id = 'GO:' + zeros_needed*'0' + str(id)\n",
    "        elif length_of_numeric == 7:\n",
    "            id = 'GO:' + str(id)\n",
    "        else:\n",
    "            raise ValueError('Unknown Gene Ontology ID')\n",
    "    else:\n",
    "        if len(id) != 10:\n",
    "            raise ValueError('GO ID should be length 10')\n",
    "        if id[0:3] != 'GO:':\n",
    "            raise ValueError('The prefix should be \\'GO:\\'')\n",
    "    return id\n"
   ]
  },
  {
   "cell_type": "code",
   "execution_count": 32,
   "metadata": {},
   "outputs": [
    {
     "data": {
      "text/plain": [
       "'GO:0000337'"
      ]
     },
     "execution_count": 32,
     "metadata": {},
     "output_type": "execute_result"
    }
   ],
   "source": [
    "id = '0000337'\n",
    "check_id_format(id)"
   ]
  },
  {
   "cell_type": "code",
   "execution_count": null,
   "metadata": {},
   "outputs": [],
   "source": [
    "GO:0000015"
   ]
  }
 ],
 "metadata": {
  "kernelspec": {
   "display_name": "bioinfo",
   "language": "python",
   "name": "python3"
  },
  "language_info": {
   "codemirror_mode": {
    "name": "ipython",
    "version": 3
   },
   "file_extension": ".py",
   "mimetype": "text/x-python",
   "name": "python",
   "nbconvert_exporter": "python",
   "pygments_lexer": "ipython3",
   "version": "3.9.16"
  },
  "orig_nbformat": 4
 },
 "nbformat": 4,
 "nbformat_minor": 2
}
