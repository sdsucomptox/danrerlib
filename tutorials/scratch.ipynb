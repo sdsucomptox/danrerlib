{
 "cells": [
  {
   "cell_type": "code",
   "execution_count": 6,
   "metadata": {},
   "outputs": [],
   "source": [
    "from danrerlib import enrichment\n",
    "from danrerlib import mapping\n",
    "import pandas as pd"
   ]
  },
  {
   "cell_type": "code",
   "execution_count": 2,
   "metadata": {},
   "outputs": [],
   "source": [
    "NCBI_ID = 'NCBI Gene ID'"
   ]
  },
  {
   "cell_type": "code",
   "execution_count": 3,
   "metadata": {},
   "outputs": [
    {
     "data": {
      "text/html": [
       "<div>\n",
       "<style scoped>\n",
       "    .dataframe tbody tr th:only-of-type {\n",
       "        vertical-align: middle;\n",
       "    }\n",
       "\n",
       "    .dataframe tbody tr th {\n",
       "        vertical-align: top;\n",
       "    }\n",
       "\n",
       "    .dataframe thead th {\n",
       "        text-align: right;\n",
       "    }\n",
       "</style>\n",
       "<table border=\"1\" class=\"dataframe\">\n",
       "  <thead>\n",
       "    <tr style=\"text-align: right;\">\n",
       "      <th></th>\n",
       "      <th>NCBI Gene ID</th>\n",
       "      <th>PValue</th>\n",
       "      <th>logFC</th>\n",
       "    </tr>\n",
       "  </thead>\n",
       "  <tbody>\n",
       "    <tr>\n",
       "      <th>0</th>\n",
       "      <td>100000006</td>\n",
       "      <td>0.792615</td>\n",
       "      <td>0.115009</td>\n",
       "    </tr>\n",
       "    <tr>\n",
       "      <th>1</th>\n",
       "      <td>100000044</td>\n",
       "      <td>0.015286</td>\n",
       "      <td>0.803879</td>\n",
       "    </tr>\n",
       "    <tr>\n",
       "      <th>2</th>\n",
       "      <td>100000085</td>\n",
       "      <td>0.264762</td>\n",
       "      <td>0.267360</td>\n",
       "    </tr>\n",
       "    <tr>\n",
       "      <th>3</th>\n",
       "      <td>100000101</td>\n",
       "      <td>0.279948</td>\n",
       "      <td>-0.281195</td>\n",
       "    </tr>\n",
       "    <tr>\n",
       "      <th>4</th>\n",
       "      <td>100000125</td>\n",
       "      <td>0.194151</td>\n",
       "      <td>0.154282</td>\n",
       "    </tr>\n",
       "  </tbody>\n",
       "</table>\n",
       "</div>"
      ],
      "text/plain": [
       "   NCBI Gene ID    PValue     logFC\n",
       "0     100000006  0.792615  0.115009\n",
       "1     100000044  0.015286  0.803879\n",
       "2     100000085  0.264762  0.267360\n",
       "3     100000101  0.279948 -0.281195\n",
       "4     100000125  0.194151  0.154282"
      ]
     },
     "execution_count": 3,
     "metadata": {},
     "output_type": "execute_result"
    }
   ],
   "source": [
    "gene_universe = pd.read_csv('data/test_data/example_diff_express_data.txt', sep = '\\t')\n",
    "gene_universe.head(5)"
   ]
  },
  {
   "cell_type": "code",
   "execution_count": 5,
   "metadata": {},
   "outputs": [
    {
     "data": {
      "text/plain": [
       "'NCBI Gene ID'"
      ]
     },
     "execution_count": 5,
     "metadata": {},
     "output_type": "execute_result"
    }
   ],
   "source": [
    "required_columns = ['NCBI Gene ID', 'PValue', 'log2FC']\n",
    "existing_columns = gene_universe.columns\n",
    "existing_columns[0]"
   ]
  },
  {
   "cell_type": "code",
   "execution_count": 8,
   "metadata": {},
   "outputs": [],
   "source": [
    "new_df = mapping.add_mapped_column(gene_universe, 'NCBI Gene ID', 'ZFIN ID', keep_old_ids=False)"
   ]
  },
  {
   "cell_type": "code",
   "execution_count": 11,
   "metadata": {},
   "outputs": [
    {
     "data": {
      "text/html": [
       "<div>\n",
       "<style scoped>\n",
       "    .dataframe tbody tr th:only-of-type {\n",
       "        vertical-align: middle;\n",
       "    }\n",
       "\n",
       "    .dataframe tbody tr th {\n",
       "        vertical-align: top;\n",
       "    }\n",
       "\n",
       "    .dataframe thead th {\n",
       "        text-align: right;\n",
       "    }\n",
       "</style>\n",
       "<table border=\"1\" class=\"dataframe\">\n",
       "  <thead>\n",
       "    <tr style=\"text-align: right;\">\n",
       "      <th></th>\n",
       "      <th>ZFIN ID</th>\n",
       "      <th>p</th>\n",
       "      <th>logFC</th>\n",
       "    </tr>\n",
       "  </thead>\n",
       "  <tbody>\n",
       "    <tr>\n",
       "      <th>0</th>\n",
       "      <td>ZDB-GENE-030131-5654</td>\n",
       "      <td>7.926150e-01</td>\n",
       "      <td>0.115009</td>\n",
       "    </tr>\n",
       "    <tr>\n",
       "      <th>1</th>\n",
       "      <td>ZDB-GENE-121214-60</td>\n",
       "      <td>1.528565e-02</td>\n",
       "      <td>0.803879</td>\n",
       "    </tr>\n",
       "    <tr>\n",
       "      <th>2</th>\n",
       "      <td>ZDB-GENE-030131-1312</td>\n",
       "      <td>2.647625e-01</td>\n",
       "      <td>0.267360</td>\n",
       "    </tr>\n",
       "    <tr>\n",
       "      <th>3</th>\n",
       "      <td>ZDB-GENE-050208-155</td>\n",
       "      <td>2.799478e-01</td>\n",
       "      <td>-0.281195</td>\n",
       "    </tr>\n",
       "    <tr>\n",
       "      <th>4</th>\n",
       "      <td>ZDB-GENE-060503-666</td>\n",
       "      <td>1.941513e-01</td>\n",
       "      <td>0.154282</td>\n",
       "    </tr>\n",
       "    <tr>\n",
       "      <th>...</th>\n",
       "      <td>...</td>\n",
       "      <td>...</td>\n",
       "      <td>...</td>\n",
       "    </tr>\n",
       "    <tr>\n",
       "      <th>5460</th>\n",
       "      <td>ZDB-GENE-010412-1</td>\n",
       "      <td>5.799081e-01</td>\n",
       "      <td>-0.260927</td>\n",
       "    </tr>\n",
       "    <tr>\n",
       "      <th>5461</th>\n",
       "      <td>ZDB-GENE-010426-7</td>\n",
       "      <td>5.629701e-01</td>\n",
       "      <td>-0.122201</td>\n",
       "    </tr>\n",
       "    <tr>\n",
       "      <th>5462</th>\n",
       "      <td>ZDB-GENE-010501-5</td>\n",
       "      <td>8.448122e-01</td>\n",
       "      <td>-0.028498</td>\n",
       "    </tr>\n",
       "    <tr>\n",
       "      <th>5463</th>\n",
       "      <td>ZDB-GENE-010509-2</td>\n",
       "      <td>5.418643e-01</td>\n",
       "      <td>0.116959</td>\n",
       "    </tr>\n",
       "    <tr>\n",
       "      <th>5464</th>\n",
       "      <td>ZDB-GENE-010522-1</td>\n",
       "      <td>8.650000e-10</td>\n",
       "      <td>-1.310207</td>\n",
       "    </tr>\n",
       "  </tbody>\n",
       "</table>\n",
       "<p>5465 rows × 3 columns</p>\n",
       "</div>"
      ],
      "text/plain": [
       "                   ZFIN ID             p     logFC\n",
       "0     ZDB-GENE-030131-5654  7.926150e-01  0.115009\n",
       "1       ZDB-GENE-121214-60  1.528565e-02  0.803879\n",
       "2     ZDB-GENE-030131-1312  2.647625e-01  0.267360\n",
       "3      ZDB-GENE-050208-155  2.799478e-01 -0.281195\n",
       "4      ZDB-GENE-060503-666  1.941513e-01  0.154282\n",
       "...                    ...           ...       ...\n",
       "5460     ZDB-GENE-010412-1  5.799081e-01 -0.260927\n",
       "5461     ZDB-GENE-010426-7  5.629701e-01 -0.122201\n",
       "5462     ZDB-GENE-010501-5  8.448122e-01 -0.028498\n",
       "5463     ZDB-GENE-010509-2  5.418643e-01  0.116959\n",
       "5464     ZDB-GENE-010522-1  8.650000e-10 -1.310207\n",
       "\n",
       "[5465 rows x 3 columns]"
      ]
     },
     "execution_count": 11,
     "metadata": {},
     "output_type": "execute_result"
    }
   ],
   "source": [
    "new_df = new_df.rename(columns={'PValue': 'p'})\n",
    "new_df"
   ]
  },
  {
   "cell_type": "code",
   "execution_count": 12,
   "metadata": {},
   "outputs": [],
   "source": [
    "gene_universe = new_df\n",
    "specified_gene_id_type = 'ZFIN ID'"
   ]
  },
  {
   "cell_type": "code",
   "execution_count": 13,
   "metadata": {},
   "outputs": [
    {
     "data": {
      "text/html": [
       "<div>\n",
       "<style scoped>\n",
       "    .dataframe tbody tr th:only-of-type {\n",
       "        vertical-align: middle;\n",
       "    }\n",
       "\n",
       "    .dataframe tbody tr th {\n",
       "        vertical-align: top;\n",
       "    }\n",
       "\n",
       "    .dataframe thead th {\n",
       "        text-align: right;\n",
       "    }\n",
       "</style>\n",
       "<table border=\"1\" class=\"dataframe\">\n",
       "  <thead>\n",
       "    <tr style=\"text-align: right;\">\n",
       "      <th></th>\n",
       "      <th>NCBI Gene ID</th>\n",
       "      <th>PValue</th>\n",
       "      <th>log2FC</th>\n",
       "    </tr>\n",
       "  </thead>\n",
       "  <tbody>\n",
       "    <tr>\n",
       "      <th>0</th>\n",
       "      <td>100000006</td>\n",
       "      <td>7.926150e-01</td>\n",
       "      <td>0.115009</td>\n",
       "    </tr>\n",
       "    <tr>\n",
       "      <th>1</th>\n",
       "      <td>100000044</td>\n",
       "      <td>1.528565e-02</td>\n",
       "      <td>0.803879</td>\n",
       "    </tr>\n",
       "    <tr>\n",
       "      <th>2</th>\n",
       "      <td>100000085</td>\n",
       "      <td>2.647625e-01</td>\n",
       "      <td>0.267360</td>\n",
       "    </tr>\n",
       "    <tr>\n",
       "      <th>3</th>\n",
       "      <td>100000101</td>\n",
       "      <td>2.799478e-01</td>\n",
       "      <td>-0.281195</td>\n",
       "    </tr>\n",
       "    <tr>\n",
       "      <th>4</th>\n",
       "      <td>100000125</td>\n",
       "      <td>1.941513e-01</td>\n",
       "      <td>0.154282</td>\n",
       "    </tr>\n",
       "    <tr>\n",
       "      <th>...</th>\n",
       "      <td>...</td>\n",
       "      <td>...</td>\n",
       "      <td>...</td>\n",
       "    </tr>\n",
       "    <tr>\n",
       "      <th>5460</th>\n",
       "      <td>83415</td>\n",
       "      <td>5.799081e-01</td>\n",
       "      <td>-0.260927</td>\n",
       "    </tr>\n",
       "    <tr>\n",
       "      <th>5461</th>\n",
       "      <td>83775</td>\n",
       "      <td>5.629701e-01</td>\n",
       "      <td>-0.122201</td>\n",
       "    </tr>\n",
       "    <tr>\n",
       "      <th>5462</th>\n",
       "      <td>83910</td>\n",
       "      <td>8.448122e-01</td>\n",
       "      <td>-0.028498</td>\n",
       "    </tr>\n",
       "    <tr>\n",
       "      <th>5463</th>\n",
       "      <td>84037</td>\n",
       "      <td>5.418643e-01</td>\n",
       "      <td>0.116959</td>\n",
       "    </tr>\n",
       "    <tr>\n",
       "      <th>5464</th>\n",
       "      <td>84702</td>\n",
       "      <td>8.650000e-10</td>\n",
       "      <td>-1.310207</td>\n",
       "    </tr>\n",
       "  </tbody>\n",
       "</table>\n",
       "<p>5464 rows × 3 columns</p>\n",
       "</div>"
      ],
      "text/plain": [
       "     NCBI Gene ID        PValue    log2FC\n",
       "0       100000006  7.926150e-01  0.115009\n",
       "1       100000044  1.528565e-02  0.803879\n",
       "2       100000085  2.647625e-01  0.267360\n",
       "3       100000101  2.799478e-01 -0.281195\n",
       "4       100000125  1.941513e-01  0.154282\n",
       "...           ...           ...       ...\n",
       "5460        83415  5.799081e-01 -0.260927\n",
       "5461        83775  5.629701e-01 -0.122201\n",
       "5462        83910  8.448122e-01 -0.028498\n",
       "5463        84037  5.418643e-01  0.116959\n",
       "5464        84702  8.650000e-10 -1.310207\n",
       "\n",
       "[5464 rows x 3 columns]"
      ]
     },
     "execution_count": 13,
     "metadata": {},
     "output_type": "execute_result"
    }
   ],
   "source": [
    "required_columns = ['NCBI Gene ID', 'PValue', 'log2FC']\n",
    "existing_columns = gene_universe.columns\n",
    "\n",
    "gene_id_type_from_data = existing_columns[0]\n",
    "if specified_gene_id_type != gene_id_type_from_data:\n",
    "    gene_universe = gene_universe.rename(columns={gene_id_type_from_data: specified_gene_id_type})\n",
    "\n",
    "if specified_gene_id_type != required_columns[1]:\n",
    "    gene_universe = mapping.add_mapped_column(gene_universe, specified_gene_id_type, required_columns[0], keep_old_ids=False)\n",
    "\n",
    "missing_columns = [col for col in required_columns if col not in existing_columns]\n",
    "\n",
    "# If any required columns are missing, rename existing columns to required names\n",
    "# THIS ASSUMES THE FIRST COLUMN IS GENE ID, SECOND COLUMN PVAL, THIRD COLUMN LOG2FC\n",
    "if missing_columns:\n",
    "    # Create a dictionary to map existing column names to the required names\n",
    "    column_mapping = {col: required_columns[i] for i, col in enumerate(existing_columns)}\n",
    "\n",
    "    # Rename the columns based on the mapping\n",
    "    gene_universe = gene_universe.rename(columns=column_mapping)\n",
    "gene_universe"
   ]
  },
  {
   "cell_type": "code",
   "execution_count": 5,
   "metadata": {},
   "outputs": [
    {
     "data": {
      "text/html": [
       "<div>\n",
       "<style scoped>\n",
       "    .dataframe tbody tr th:only-of-type {\n",
       "        vertical-align: middle;\n",
       "    }\n",
       "\n",
       "    .dataframe tbody tr th {\n",
       "        vertical-align: top;\n",
       "    }\n",
       "\n",
       "    .dataframe thead th {\n",
       "        text-align: right;\n",
       "    }\n",
       "</style>\n",
       "<table border=\"1\" class=\"dataframe\">\n",
       "  <thead>\n",
       "    <tr style=\"text-align: right;\">\n",
       "      <th></th>\n",
       "      <th>NCBI Gene ID</th>\n",
       "    </tr>\n",
       "  </thead>\n",
       "  <tbody>\n",
       "    <tr>\n",
       "      <th>0</th>\n",
       "      <td>100000006</td>\n",
       "    </tr>\n",
       "    <tr>\n",
       "      <th>1</th>\n",
       "      <td>100000044</td>\n",
       "    </tr>\n",
       "    <tr>\n",
       "      <th>2</th>\n",
       "      <td>100000085</td>\n",
       "    </tr>\n",
       "    <tr>\n",
       "      <th>3</th>\n",
       "      <td>100000101</td>\n",
       "    </tr>\n",
       "    <tr>\n",
       "      <th>4</th>\n",
       "      <td>100000125</td>\n",
       "    </tr>\n",
       "  </tbody>\n",
       "</table>\n",
       "</div>"
      ],
      "text/plain": [
       "   NCBI Gene ID\n",
       "0     100000006\n",
       "1     100000044\n",
       "2     100000085\n",
       "3     100000101\n",
       "4     100000125"
      ]
     },
     "execution_count": 5,
     "metadata": {},
     "output_type": "execute_result"
    }
   ],
   "source": [
    "background_gene_set = pd.read_csv('data/test_data/background_gene_list.txt', sep = '\\t')\n",
    "background_gene_set.head(5)"
   ]
  },
  {
   "cell_type": "code",
   "execution_count": 7,
   "metadata": {},
   "outputs": [
    {
     "data": {
      "text/html": [
       "<div>\n",
       "<style scoped>\n",
       "    .dataframe tbody tr th:only-of-type {\n",
       "        vertical-align: middle;\n",
       "    }\n",
       "\n",
       "    .dataframe tbody tr th {\n",
       "        vertical-align: top;\n",
       "    }\n",
       "\n",
       "    .dataframe thead th {\n",
       "        text-align: right;\n",
       "    }\n",
       "</style>\n",
       "<table border=\"1\" class=\"dataframe\">\n",
       "  <thead>\n",
       "    <tr style=\"text-align: right;\">\n",
       "      <th></th>\n",
       "      <th>NCBI Gene ID</th>\n",
       "    </tr>\n",
       "  </thead>\n",
       "  <tbody>\n",
       "    <tr>\n",
       "      <th>0</th>\n",
       "      <td>100000252</td>\n",
       "    </tr>\n",
       "    <tr>\n",
       "      <th>1</th>\n",
       "      <td>100000750</td>\n",
       "    </tr>\n",
       "    <tr>\n",
       "      <th>2</th>\n",
       "      <td>100001198</td>\n",
       "    </tr>\n",
       "    <tr>\n",
       "      <th>3</th>\n",
       "      <td>100001260</td>\n",
       "    </tr>\n",
       "    <tr>\n",
       "      <th>4</th>\n",
       "      <td>100002225</td>\n",
       "    </tr>\n",
       "  </tbody>\n",
       "</table>\n",
       "</div>"
      ],
      "text/plain": [
       "   NCBI Gene ID\n",
       "0     100000252\n",
       "1     100000750\n",
       "2     100001198\n",
       "3     100001260\n",
       "4     100002225"
      ]
     },
     "execution_count": 7,
     "metadata": {},
     "output_type": "execute_result"
    }
   ],
   "source": [
    "gene_set = pd.read_csv('data/test_data/dre04910.txt', sep = '\\t')\n",
    "gene_set.head(5)"
   ]
  },
  {
   "cell_type": "code",
   "execution_count": 14,
   "metadata": {},
   "outputs": [
    {
     "data": {
      "text/plain": [
       "'KEGG'"
      ]
     },
     "execution_count": 14,
     "metadata": {},
     "output_type": "execute_result"
    }
   ],
   "source": [
    "database = 'KEGG Pathway'\n",
    "database.split()[0]"
   ]
  },
  {
   "cell_type": "code",
   "execution_count": 10,
   "metadata": {},
   "outputs": [
    {
     "data": {
      "text/html": [
       "<div>\n",
       "<style scoped>\n",
       "    .dataframe tbody tr th:only-of-type {\n",
       "        vertical-align: middle;\n",
       "    }\n",
       "\n",
       "    .dataframe tbody tr th {\n",
       "        vertical-align: top;\n",
       "    }\n",
       "\n",
       "    .dataframe thead th {\n",
       "        text-align: right;\n",
       "    }\n",
       "</style>\n",
       "<table border=\"1\" class=\"dataframe\">\n",
       "  <thead>\n",
       "    <tr style=\"text-align: right;\">\n",
       "      <th></th>\n",
       "      <th>NCBI Gene ID</th>\n",
       "      <th>PValue</th>\n",
       "      <th>logFC</th>\n",
       "    </tr>\n",
       "  </thead>\n",
       "  <tbody>\n",
       "    <tr>\n",
       "      <th>0</th>\n",
       "      <td>100000006</td>\n",
       "      <td>0.792615</td>\n",
       "      <td>0.115009</td>\n",
       "    </tr>\n",
       "    <tr>\n",
       "      <th>1</th>\n",
       "      <td>100000044</td>\n",
       "      <td>0.015286</td>\n",
       "      <td>0.803879</td>\n",
       "    </tr>\n",
       "    <tr>\n",
       "      <th>2</th>\n",
       "      <td>100000085</td>\n",
       "      <td>0.264762</td>\n",
       "      <td>0.267360</td>\n",
       "    </tr>\n",
       "    <tr>\n",
       "      <th>3</th>\n",
       "      <td>100000101</td>\n",
       "      <td>0.279948</td>\n",
       "      <td>-0.281195</td>\n",
       "    </tr>\n",
       "    <tr>\n",
       "      <th>4</th>\n",
       "      <td>100000125</td>\n",
       "      <td>0.194151</td>\n",
       "      <td>0.154282</td>\n",
       "    </tr>\n",
       "  </tbody>\n",
       "</table>\n",
       "</div>"
      ],
      "text/plain": [
       "   NCBI Gene ID    PValue     logFC\n",
       "0     100000006  0.792615  0.115009\n",
       "1     100000044  0.015286  0.803879\n",
       "2     100000085  0.264762  0.267360\n",
       "3     100000101  0.279948 -0.281195\n",
       "4     100000125  0.194151  0.154282"
      ]
     },
     "execution_count": 10,
     "metadata": {},
     "output_type": "execute_result"
    }
   ],
   "source": [
    "# Merge gene_universe and background_gene_set to get information on all genes in the universe\n",
    "gene_universe_all = pd.merge(gene_universe, background_gene_set, on=NCBI_ID, how='right', suffixes=('_universe', '_background'))\n",
    "gene_universe_all.head(5)"
   ]
  },
  {
   "cell_type": "code",
   "execution_count": 11,
   "metadata": {},
   "outputs": [
    {
     "data": {
      "text/html": [
       "<div>\n",
       "<style scoped>\n",
       "    .dataframe tbody tr th:only-of-type {\n",
       "        vertical-align: middle;\n",
       "    }\n",
       "\n",
       "    .dataframe tbody tr th {\n",
       "        vertical-align: top;\n",
       "    }\n",
       "\n",
       "    .dataframe thead th {\n",
       "        text-align: right;\n",
       "    }\n",
       "</style>\n",
       "<table border=\"1\" class=\"dataframe\">\n",
       "  <thead>\n",
       "    <tr style=\"text-align: right;\">\n",
       "      <th></th>\n",
       "      <th>NCBI Gene ID</th>\n",
       "      <th>PValue</th>\n",
       "      <th>logFC</th>\n",
       "    </tr>\n",
       "  </thead>\n",
       "  <tbody>\n",
       "    <tr>\n",
       "      <th>0</th>\n",
       "      <td>100000252</td>\n",
       "      <td>NaN</td>\n",
       "      <td>NaN</td>\n",
       "    </tr>\n",
       "    <tr>\n",
       "      <th>1</th>\n",
       "      <td>100000750</td>\n",
       "      <td>NaN</td>\n",
       "      <td>NaN</td>\n",
       "    </tr>\n",
       "    <tr>\n",
       "      <th>2</th>\n",
       "      <td>100001198</td>\n",
       "      <td>NaN</td>\n",
       "      <td>NaN</td>\n",
       "    </tr>\n",
       "    <tr>\n",
       "      <th>3</th>\n",
       "      <td>100001260</td>\n",
       "      <td>0.017629</td>\n",
       "      <td>-0.411971</td>\n",
       "    </tr>\n",
       "    <tr>\n",
       "      <th>4</th>\n",
       "      <td>100002225</td>\n",
       "      <td>0.002524</td>\n",
       "      <td>0.714442</td>\n",
       "    </tr>\n",
       "  </tbody>\n",
       "</table>\n",
       "</div>"
      ],
      "text/plain": [
       "   NCBI Gene ID    PValue     logFC\n",
       "0     100000252       NaN       NaN\n",
       "1     100000750       NaN       NaN\n",
       "2     100001198       NaN       NaN\n",
       "3     100001260  0.017629 -0.411971\n",
       "4     100002225  0.002524  0.714442"
      ]
     },
     "execution_count": 11,
     "metadata": {},
     "output_type": "execute_result"
    }
   ],
   "source": [
    "merged_df = pd.merge(gene_universe_all, gene_set, on=NCBI_ID, how='right', suffixes=('_universe', '_set'))\n",
    "merged_df.head(5)"
   ]
  },
  {
   "cell_type": "code",
   "execution_count": null,
   "metadata": {},
   "outputs": [],
   "source": [
    "# Count the number of genes in the gene universe\n",
    "total_genes = len(gene_universe_all)"
   ]
  },
  {
   "cell_type": "code",
   "execution_count": 13,
   "metadata": {},
   "outputs": [],
   "source": [
    "common_genes_in_universe = set(gene_universe_all[NCBI_ID]).intersection(set(background_gene_set[NCBI_ID]))\n",
    "total_genes = len(common_genes_in_universe)"
   ]
  },
  {
   "cell_type": "code",
   "execution_count": 14,
   "metadata": {},
   "outputs": [
    {
     "data": {
      "text/plain": [
       "5464"
      ]
     },
     "execution_count": 14,
     "metadata": {},
     "output_type": "execute_result"
    }
   ],
   "source": [
    "total_genes"
   ]
  },
  {
   "cell_type": "code",
   "execution_count": null,
   "metadata": {},
   "outputs": [],
   "source": [
    "total_number_of_genes_in_universe = len(gene_universe)"
   ]
  },
  {
   "cell_type": "code",
   "execution_count": 34,
   "metadata": {},
   "outputs": [],
   "source": [
    "total_number_of_genes_in_universe = len(gene_universe)\n",
    "sig_genes_set = set(gene_universe[NCBI_ID][gene_universe['PValue'].lt(0.05)])\n",
    "gene_set = gene_set[gene_set[NCBI_ID].isin(gene_universe[NCBI_ID])]\n",
    "genes_in_set = set(gene_set[NCBI_ID])"
   ]
  },
  {
   "cell_type": "code",
   "execution_count": 35,
   "metadata": {},
   "outputs": [],
   "source": [
    "# Number of genes that are both in the gene set and significantly expressed\n",
    "a = len(sig_genes_set.intersection(genes_in_set))\n",
    "\n",
    "# Number of genes in the gene set but not significantly expressed\n",
    "b = len(genes_in_set.difference(sig_genes_set))\n",
    "\n",
    "# Number of genes that are significantly expressed but not in the gene set\n",
    "c = len(sig_genes_set.difference(genes_in_set))\n",
    "\n",
    "# Number of genes neither in the gene set nor significantly expressed\n",
    "d = total_number_of_genes_in_universe - (a + b + c)"
   ]
  },
  {
   "cell_type": "code",
   "execution_count": 38,
   "metadata": {},
   "outputs": [
    {
     "data": {
      "text/plain": [
       "4414"
      ]
     },
     "execution_count": 38,
     "metadata": {},
     "output_type": "execute_result"
    }
   ],
   "source": [
    "d"
   ]
  },
  {
   "cell_type": "code",
   "execution_count": 27,
   "metadata": {},
   "outputs": [],
   "source": [
    "from scipy.stats import fisher_exact\n"
   ]
  },
  {
   "cell_type": "code",
   "execution_count": 28,
   "metadata": {},
   "outputs": [],
   "source": [
    "odds_ratio, p_value = fisher_exact([[a, b], [c, d]], alternative='greater')\n"
   ]
  },
  {
   "cell_type": "code",
   "execution_count": 30,
   "metadata": {},
   "outputs": [
    {
     "data": {
      "text/plain": [
       "0.9999999996258014"
      ]
     },
     "execution_count": 30,
     "metadata": {},
     "output_type": "execute_result"
    }
   ],
   "source": [
    "p_value"
   ]
  },
  {
   "cell_type": "code",
   "execution_count": 15,
   "metadata": {},
   "outputs": [],
   "source": [
    "path = '../src/danrerlib/database/KEGG/empty_disease_ids_V1.txt'\n",
    "empty_disease = pd.read_csv(path, sep = '\\t')"
   ]
  },
  {
   "cell_type": "code",
   "execution_count": 19,
   "metadata": {},
   "outputs": [
    {
     "ename": "KeyError",
     "evalue": "\"['Unnamed: 0'] not found in axis\"",
     "output_type": "error",
     "traceback": [
      "\u001b[0;31m---------------------------------------------------------------------------\u001b[0m",
      "\u001b[0;31mKeyError\u001b[0m                                  Traceback (most recent call last)",
      "\u001b[1;32m/Users/ashleyschwartz/Documents/Research/06_multilayer_network/Perliminary/danrerlib/tutorials/scratch.ipynb Cell 25\u001b[0m line \u001b[0;36m1\n\u001b[0;32m----> <a href='vscode-notebook-cell:/Users/ashleyschwartz/Documents/Research/06_multilayer_network/Perliminary/danrerlib/tutorials/scratch.ipynb#X23sZmlsZQ%3D%3D?line=0'>1</a>\u001b[0m empty_disease \u001b[39m=\u001b[39m empty_disease\u001b[39m.\u001b[39;49mdrop(columns\u001b[39m=\u001b[39;49m{\u001b[39m'\u001b[39;49m\u001b[39mUnnamed: 0\u001b[39;49m\u001b[39m'\u001b[39;49m})\n\u001b[1;32m      <a href='vscode-notebook-cell:/Users/ashleyschwartz/Documents/Research/06_multilayer_network/Perliminary/danrerlib/tutorials/scratch.ipynb#X23sZmlsZQ%3D%3D?line=1'>2</a>\u001b[0m empty_disease\u001b[39m.\u001b[39mto_csv(path, sep \u001b[39m=\u001b[39m \u001b[39m'\u001b[39m\u001b[39m\\t\u001b[39;00m\u001b[39m'\u001b[39m, index \u001b[39m=\u001b[39m \u001b[39mFalse\u001b[39;00m)\n",
      "File \u001b[0;32m~/opt/anaconda3/envs/bioinfo/lib/python3.9/site-packages/pandas/core/frame.py:5347\u001b[0m, in \u001b[0;36mDataFrame.drop\u001b[0;34m(self, labels, axis, index, columns, level, inplace, errors)\u001b[0m\n\u001b[1;32m   5199\u001b[0m \u001b[39mdef\u001b[39;00m \u001b[39mdrop\u001b[39m(\n\u001b[1;32m   5200\u001b[0m     \u001b[39mself\u001b[39m,\n\u001b[1;32m   5201\u001b[0m     labels: IndexLabel \u001b[39m|\u001b[39m \u001b[39mNone\u001b[39;00m \u001b[39m=\u001b[39m \u001b[39mNone\u001b[39;00m,\n\u001b[0;32m   (...)\u001b[0m\n\u001b[1;32m   5208\u001b[0m     errors: IgnoreRaise \u001b[39m=\u001b[39m \u001b[39m\"\u001b[39m\u001b[39mraise\u001b[39m\u001b[39m\"\u001b[39m,\n\u001b[1;32m   5209\u001b[0m ) \u001b[39m-\u001b[39m\u001b[39m>\u001b[39m DataFrame \u001b[39m|\u001b[39m \u001b[39mNone\u001b[39;00m:\n\u001b[1;32m   5210\u001b[0m \u001b[39m    \u001b[39m\u001b[39m\"\"\"\u001b[39;00m\n\u001b[1;32m   5211\u001b[0m \u001b[39m    Drop specified labels from rows or columns.\u001b[39;00m\n\u001b[1;32m   5212\u001b[0m \n\u001b[0;32m   (...)\u001b[0m\n\u001b[1;32m   5345\u001b[0m \u001b[39m            weight  1.0     0.8\u001b[39;00m\n\u001b[1;32m   5346\u001b[0m \u001b[39m    \"\"\"\u001b[39;00m\n\u001b[0;32m-> 5347\u001b[0m     \u001b[39mreturn\u001b[39;00m \u001b[39msuper\u001b[39;49m()\u001b[39m.\u001b[39;49mdrop(\n\u001b[1;32m   5348\u001b[0m         labels\u001b[39m=\u001b[39;49mlabels,\n\u001b[1;32m   5349\u001b[0m         axis\u001b[39m=\u001b[39;49maxis,\n\u001b[1;32m   5350\u001b[0m         index\u001b[39m=\u001b[39;49mindex,\n\u001b[1;32m   5351\u001b[0m         columns\u001b[39m=\u001b[39;49mcolumns,\n\u001b[1;32m   5352\u001b[0m         level\u001b[39m=\u001b[39;49mlevel,\n\u001b[1;32m   5353\u001b[0m         inplace\u001b[39m=\u001b[39;49minplace,\n\u001b[1;32m   5354\u001b[0m         errors\u001b[39m=\u001b[39;49merrors,\n\u001b[1;32m   5355\u001b[0m     )\n",
      "File \u001b[0;32m~/opt/anaconda3/envs/bioinfo/lib/python3.9/site-packages/pandas/core/generic.py:4711\u001b[0m, in \u001b[0;36mNDFrame.drop\u001b[0;34m(self, labels, axis, index, columns, level, inplace, errors)\u001b[0m\n\u001b[1;32m   4709\u001b[0m \u001b[39mfor\u001b[39;00m axis, labels \u001b[39min\u001b[39;00m axes\u001b[39m.\u001b[39mitems():\n\u001b[1;32m   4710\u001b[0m     \u001b[39mif\u001b[39;00m labels \u001b[39mis\u001b[39;00m \u001b[39mnot\u001b[39;00m \u001b[39mNone\u001b[39;00m:\n\u001b[0;32m-> 4711\u001b[0m         obj \u001b[39m=\u001b[39m obj\u001b[39m.\u001b[39;49m_drop_axis(labels, axis, level\u001b[39m=\u001b[39;49mlevel, errors\u001b[39m=\u001b[39;49merrors)\n\u001b[1;32m   4713\u001b[0m \u001b[39mif\u001b[39;00m inplace:\n\u001b[1;32m   4714\u001b[0m     \u001b[39mself\u001b[39m\u001b[39m.\u001b[39m_update_inplace(obj)\n",
      "File \u001b[0;32m~/opt/anaconda3/envs/bioinfo/lib/python3.9/site-packages/pandas/core/generic.py:4753\u001b[0m, in \u001b[0;36mNDFrame._drop_axis\u001b[0;34m(self, labels, axis, level, errors, only_slice)\u001b[0m\n\u001b[1;32m   4751\u001b[0m         new_axis \u001b[39m=\u001b[39m axis\u001b[39m.\u001b[39mdrop(labels, level\u001b[39m=\u001b[39mlevel, errors\u001b[39m=\u001b[39merrors)\n\u001b[1;32m   4752\u001b[0m     \u001b[39melse\u001b[39;00m:\n\u001b[0;32m-> 4753\u001b[0m         new_axis \u001b[39m=\u001b[39m axis\u001b[39m.\u001b[39;49mdrop(labels, errors\u001b[39m=\u001b[39;49merrors)\n\u001b[1;32m   4754\u001b[0m     indexer \u001b[39m=\u001b[39m axis\u001b[39m.\u001b[39mget_indexer(new_axis)\n\u001b[1;32m   4756\u001b[0m \u001b[39m# Case for non-unique axis\u001b[39;00m\n\u001b[1;32m   4757\u001b[0m \u001b[39melse\u001b[39;00m:\n",
      "File \u001b[0;32m~/opt/anaconda3/envs/bioinfo/lib/python3.9/site-packages/pandas/core/indexes/base.py:6992\u001b[0m, in \u001b[0;36mIndex.drop\u001b[0;34m(self, labels, errors)\u001b[0m\n\u001b[1;32m   6990\u001b[0m \u001b[39mif\u001b[39;00m mask\u001b[39m.\u001b[39many():\n\u001b[1;32m   6991\u001b[0m     \u001b[39mif\u001b[39;00m errors \u001b[39m!=\u001b[39m \u001b[39m\"\u001b[39m\u001b[39mignore\u001b[39m\u001b[39m\"\u001b[39m:\n\u001b[0;32m-> 6992\u001b[0m         \u001b[39mraise\u001b[39;00m \u001b[39mKeyError\u001b[39;00m(\u001b[39mf\u001b[39m\u001b[39m\"\u001b[39m\u001b[39m{\u001b[39;00mlabels[mask]\u001b[39m.\u001b[39mtolist()\u001b[39m}\u001b[39;00m\u001b[39m not found in axis\u001b[39m\u001b[39m\"\u001b[39m)\n\u001b[1;32m   6993\u001b[0m     indexer \u001b[39m=\u001b[39m indexer[\u001b[39m~\u001b[39mmask]\n\u001b[1;32m   6994\u001b[0m \u001b[39mreturn\u001b[39;00m \u001b[39mself\u001b[39m\u001b[39m.\u001b[39mdelete(indexer)\n",
      "\u001b[0;31mKeyError\u001b[0m: \"['Unnamed: 0'] not found in axis\""
     ]
    }
   ],
   "source": [
    "empty_disease = empty_disease.drop(columns={'Unnamed: 0'})\n"
   ]
  },
  {
   "cell_type": "code",
   "execution_count": 20,
   "metadata": {},
   "outputs": [],
   "source": [
    "empty_disease.to_csv(path, sep = '\\t', index = False)"
   ]
  },
  {
   "cell_type": "code",
   "execution_count": 21,
   "metadata": {},
   "outputs": [
    {
     "data": {
      "text/html": [
       "<div>\n",
       "<style scoped>\n",
       "    .dataframe tbody tr th:only-of-type {\n",
       "        vertical-align: middle;\n",
       "    }\n",
       "\n",
       "    .dataframe tbody tr th {\n",
       "        vertical-align: top;\n",
       "    }\n",
       "\n",
       "    .dataframe thead th {\n",
       "        text-align: right;\n",
       "    }\n",
       "</style>\n",
       "<table border=\"1\" class=\"dataframe\">\n",
       "  <thead>\n",
       "    <tr style=\"text-align: right;\">\n",
       "      <th></th>\n",
       "      <th>Disease ID</th>\n",
       "      <th>Disease Description</th>\n",
       "    </tr>\n",
       "  </thead>\n",
       "  <tbody>\n",
       "    <tr>\n",
       "      <th>0</th>\n",
       "      <td>H00001</td>\n",
       "      <td>B-cell acute lymphoblastic leukemia; B-cell ac...</td>\n",
       "    </tr>\n",
       "    <tr>\n",
       "      <th>1</th>\n",
       "      <td>H00002</td>\n",
       "      <td>T-cell acute lymphoblastic leukemia; T-cell ac...</td>\n",
       "    </tr>\n",
       "    <tr>\n",
       "      <th>2</th>\n",
       "      <td>H00003</td>\n",
       "      <td>Acute myeloid leukemia</td>\n",
       "    </tr>\n",
       "    <tr>\n",
       "      <th>3</th>\n",
       "      <td>H00004</td>\n",
       "      <td>Chronic myeloid leukemia</td>\n",
       "    </tr>\n",
       "    <tr>\n",
       "      <th>4</th>\n",
       "      <td>H00005</td>\n",
       "      <td>Chronic lymphocytic leukemia</td>\n",
       "    </tr>\n",
       "    <tr>\n",
       "      <th>...</th>\n",
       "      <td>...</td>\n",
       "      <td>...</td>\n",
       "    </tr>\n",
       "    <tr>\n",
       "      <th>2641</th>\n",
       "      <td>H02649</td>\n",
       "      <td>Autosomal dominant slowed nerve conduction vel...</td>\n",
       "    </tr>\n",
       "    <tr>\n",
       "      <th>2642</th>\n",
       "      <td>H02650</td>\n",
       "      <td>Menke-Hennekam syndrome</td>\n",
       "    </tr>\n",
       "    <tr>\n",
       "      <th>2643</th>\n",
       "      <td>H02651</td>\n",
       "      <td>Lessel-Kreienkamp syndrome</td>\n",
       "    </tr>\n",
       "    <tr>\n",
       "      <th>2644</th>\n",
       "      <td>H02652</td>\n",
       "      <td>Macrocephaly, acquired, with impaired intellec...</td>\n",
       "    </tr>\n",
       "    <tr>\n",
       "      <th>2645</th>\n",
       "      <td>H02653</td>\n",
       "      <td>Faundes-Banka syndrome</td>\n",
       "    </tr>\n",
       "  </tbody>\n",
       "</table>\n",
       "<p>2646 rows × 2 columns</p>\n",
       "</div>"
      ],
      "text/plain": [
       "     Disease ID                                Disease Description\n",
       "0        H00001  B-cell acute lymphoblastic leukemia; B-cell ac...\n",
       "1        H00002  T-cell acute lymphoblastic leukemia; T-cell ac...\n",
       "2        H00003                             Acute myeloid leukemia\n",
       "3        H00004                           Chronic myeloid leukemia\n",
       "4        H00005                       Chronic lymphocytic leukemia\n",
       "...         ...                                                ...\n",
       "2641     H02649  Autosomal dominant slowed nerve conduction vel...\n",
       "2642     H02650                            Menke-Hennekam syndrome\n",
       "2643     H02651                         Lessel-Kreienkamp syndrome\n",
       "2644     H02652  Macrocephaly, acquired, with impaired intellec...\n",
       "2645     H02653                             Faundes-Banka syndrome\n",
       "\n",
       "[2646 rows x 2 columns]"
      ]
     },
     "execution_count": 21,
     "metadata": {},
     "output_type": "execute_result"
    }
   ],
   "source": [
    "path = '../src/danrerlib/database/KEGG/disease_ids_V1.txt'\n",
    "full_disease = pd.read_csv(path, sep = '\\t')\n",
    "full_disease"
   ]
  },
  {
   "cell_type": "code",
   "execution_count": 23,
   "metadata": {},
   "outputs": [],
   "source": [
    "full_disease = full_disease[~full_disease['Disease ID'].isin(empty_disease['Disease ID'])]"
   ]
  },
  {
   "cell_type": "code",
   "execution_count": 25,
   "metadata": {},
   "outputs": [],
   "source": [
    "full_disease.to_csv('../src/danrerlib/database/KEGG/disease_ids_valid_V1.txt', sep = '\\t', index = False)"
   ]
  },
  {
   "cell_type": "code",
   "execution_count": 22,
   "metadata": {},
   "outputs": [
    {
     "name": "stdout",
     "output_type": "stream",
     "text": [
      "Original full_disease DataFrame:\n",
      "   Disease ID Disease Name\n",
      "0           1            A\n",
      "1           2            B\n",
      "2           3            C\n",
      "3           4            D\n",
      "4           5            E\n",
      "\n",
      "full_disease DataFrame after removal:\n",
      "   Disease ID Disease Name\n",
      "1           2            B\n",
      "3           4            D\n"
     ]
    }
   ],
   "source": [
    "# Assuming 'Disease ID' is the common column between the two DataFrames\n",
    "\n",
    "# Sample data for empty_disease\n",
    "empty_data = {'Disease ID': [1, 3, 5]}\n",
    "empty_disease2 = pd.DataFrame(empty_data)\n",
    "\n",
    "# Sample data for full_disease\n",
    "full_data = {'Disease ID': [1, 2, 3, 4, 5],\n",
    "             'Disease Name': ['A', 'B', 'C', 'D', 'E']}\n",
    "full_disease2 = pd.DataFrame(full_data)\n",
    "\n",
    "# Display the original full_disease DataFrame\n",
    "print(\"Original full_disease DataFrame:\")\n",
    "print(full_disease2)\n",
    "\n",
    "# Remove rows from full_disease based on 'Disease ID' in empty_disease\n",
    "full_disease2 = full_disease2[~full_disease2['Disease ID'].isin(empty_disease2['Disease ID'])]\n",
    "\n",
    "# Display the modified full_disease DataFrame\n",
    "print(\"\\nfull_disease DataFrame after removal:\")\n",
    "print(full_disease2)"
   ]
  },
  {
   "cell_type": "code",
   "execution_count": null,
   "metadata": {},
   "outputs": [],
   "source": []
  }
 ],
 "metadata": {
  "kernelspec": {
   "display_name": "bioinfo",
   "language": "python",
   "name": "python3"
  },
  "language_info": {
   "codemirror_mode": {
    "name": "ipython",
    "version": 3
   },
   "file_extension": ".py",
   "mimetype": "text/x-python",
   "name": "python",
   "nbconvert_exporter": "python",
   "pygments_lexer": "ipython3",
   "version": "3.9.16"
  },
  "orig_nbformat": 4
 },
 "nbformat": 4,
 "nbformat_minor": 2
}
